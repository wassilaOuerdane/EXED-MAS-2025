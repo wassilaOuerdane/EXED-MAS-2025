{
 "cells": [
  {
   "cell_type": "markdown",
   "id": "ab5c6826",
   "metadata": {
    "id": "ab5c6826"
   },
   "source": [
    "<center><img src='https://images.squarespace-cdn.com/content/v1/5ee601405ce62276749db24a/dcb6d2e1-4ffd-477e-b495-50d163bed7a2/CentraleSupelec+logo.png' width=200></center>\n",
    "\n",
    "\n",
    "<h6><center></center></h6>\n",
    "\n",
    "<h1>\n",
    "<hr style=\" border:none; height:3px;\">\n",
    "<center>Systèmes Multi-Agents</center>\n",
    "    <center>Deuxième partie : découverte de la bibliothèque Mesa</center>\n",
    "<hr style=\" border:none; height:3px;\">\n",
    "</h1>\n",
    "\n"
   ]
  },
  {
   "cell_type": "code",
   "execution_count": null,
   "id": "d73d4c7b-618f-4011-b120-cb6aceb5fc80",
   "metadata": {},
   "outputs": [],
   "source": []
  },
  {
   "cell_type": "markdown",
   "id": "d46ab275",
   "metadata": {
    "id": "d46ab275"
   },
   "source": [
    "# Objectif\n",
    "\n",
    "Nous allons programmer un système multi-agent en utilisant la bibliothèque Mesa qui permet réalise les fonctions essentielles d'un SMA synchrone avec interactions indirectes. Ce TP est largement inspiré du tutoriel proposé sur le site de la bibliothèque Mesa."
   ]
  },
  {
   "cell_type": "markdown",
   "id": "b26cbbf3",
   "metadata": {
    "id": "b26cbbf3"
   },
   "source": [
    "<div class =\"alert alert-block alert-success\">\n",
    "    <b>Remarques :</b>\n",
    "    <ul>\n",
    "        <li>Pour réaliser un SMA en python, il faut forcément « bricoler » un peu.</li>\n",
    "        <li>Les applications industrielles des SMA utilisent plutôt des plateformes en Java comme Repast Symphony ou Jade.</li>\n",
    "    </ul>\n",
    "</div>"
   ]
  },
  {
   "cell_type": "markdown",
   "id": "78ae71d7",
   "metadata": {
    "id": "78ae71d7"
   },
   "source": [
    "## Prérequis\n",
    "\n",
    "Pour fonctionner, Mesa a besoin d'un certain nombre de bibliothèques. Commencez par exécuter cette celle pour installer la bibliothèque Mesa :"
   ]
  },
  {
   "cell_type": "code",
   "execution_count": 1,
   "id": "f78913d5",
   "metadata": {
    "colab": {
     "base_uri": "https://localhost:8080/"
    },
    "executionInfo": {
     "elapsed": 20997,
     "status": "ok",
     "timestamp": 1742847056277,
     "user": {
      "displayName": "Wassila Ouerdane",
      "userId": "06311256887956564892"
     },
     "user_tz": -60
    },
    "id": "f78913d5",
    "outputId": "4e8d0bac-39fb-4d2c-ad4e-e136ab127aa7",
    "scrolled": true
   },
   "outputs": [
    {
     "name": "stdout",
     "output_type": "stream",
     "text": [
      "Note: you may need to restart the kernel to use updated packages.\n",
      "Note: you may need to restart the kernel to use updated packages.\n"
     ]
    }
   ],
   "source": [
    "%pip install --quiet --upgrade mesa\n",
    "%pip install --quiet --upgrade seaborn"
   ]
  },
  {
   "cell_type": "code",
   "execution_count": 1,
   "id": "e230cc2f-bd8d-4a1c-8068-01ccb1a8e127",
   "metadata": {},
   "outputs": [
    {
     "name": "stdout",
     "output_type": "stream",
     "text": [
      "Requirement already satisfied: numpy in /Library/Frameworks/Python.framework/Versions/3.12/lib/python3.12/site-packages (from -r requirements.txt (line 2)) (1.26.4)\n",
      "Requirement already satisfied: seaborn in /Library/Frameworks/Python.framework/Versions/3.12/lib/python3.12/site-packages (from -r requirements.txt (line 3)) (0.13.2)\n",
      "Requirement already satisfied: matplotlib in /Library/Frameworks/Python.framework/Versions/3.12/lib/python3.12/site-packages (from -r requirements.txt (line 4)) (3.10.0)\n",
      "Requirement already satisfied: solara in /Library/Frameworks/Python.framework/Versions/3.12/lib/python3.12/site-packages (from -r requirements.txt (line 5)) (1.44.1)\n",
      "Requirement already satisfied: mesa[rec] in /Library/Frameworks/Python.framework/Versions/3.12/lib/python3.12/site-packages (from -r requirements.txt (line 1)) (3.1.4)\n",
      "Requirement already satisfied: pandas in /Library/Frameworks/Python.framework/Versions/3.12/lib/python3.12/site-packages (from mesa[rec]->-r requirements.txt (line 1)) (2.2.3)\n",
      "Requirement already satisfied: scipy in /Library/Frameworks/Python.framework/Versions/3.12/lib/python3.12/site-packages (from mesa[rec]->-r requirements.txt (line 1)) (1.11.4)\n",
      "Requirement already satisfied: tqdm in /Library/Frameworks/Python.framework/Versions/3.12/lib/python3.12/site-packages (from mesa[rec]->-r requirements.txt (line 1)) (4.67.1)\n",
      "Requirement already satisfied: altair in /Library/Frameworks/Python.framework/Versions/3.12/lib/python3.12/site-packages (from mesa[rec]->-r requirements.txt (line 1)) (5.5.0)\n",
      "Requirement already satisfied: networkx in /Library/Frameworks/Python.framework/Versions/3.12/lib/python3.12/site-packages (from mesa[rec]->-r requirements.txt (line 1)) (3.4.2)\n",
      "Requirement already satisfied: contourpy>=1.0.1 in /Library/Frameworks/Python.framework/Versions/3.12/lib/python3.12/site-packages (from matplotlib->-r requirements.txt (line 4)) (1.3.1)\n",
      "Requirement already satisfied: cycler>=0.10 in /Library/Frameworks/Python.framework/Versions/3.12/lib/python3.12/site-packages (from matplotlib->-r requirements.txt (line 4)) (0.12.1)\n",
      "Requirement already satisfied: fonttools>=4.22.0 in /Library/Frameworks/Python.framework/Versions/3.12/lib/python3.12/site-packages (from matplotlib->-r requirements.txt (line 4)) (4.55.3)\n",
      "Requirement already satisfied: kiwisolver>=1.3.1 in /Library/Frameworks/Python.framework/Versions/3.12/lib/python3.12/site-packages (from matplotlib->-r requirements.txt (line 4)) (1.4.8)\n",
      "Requirement already satisfied: packaging>=20.0 in /Library/Frameworks/Python.framework/Versions/3.12/lib/python3.12/site-packages (from matplotlib->-r requirements.txt (line 4)) (24.2)\n",
      "Requirement already satisfied: pillow>=8 in /Library/Frameworks/Python.framework/Versions/3.12/lib/python3.12/site-packages (from matplotlib->-r requirements.txt (line 4)) (11.1.0)\n",
      "Requirement already satisfied: pyparsing>=2.3.1 in /Library/Frameworks/Python.framework/Versions/3.12/lib/python3.12/site-packages (from matplotlib->-r requirements.txt (line 4)) (3.2.1)\n",
      "Requirement already satisfied: python-dateutil>=2.7 in /Library/Frameworks/Python.framework/Versions/3.12/lib/python3.12/site-packages (from matplotlib->-r requirements.txt (line 4)) (2.9.0.post0)\n",
      "Requirement already satisfied: solara-server==1.44.1 in /Library/Frameworks/Python.framework/Versions/3.12/lib/python3.12/site-packages (from solara-server[dev,starlette]==1.44.1->solara->-r requirements.txt (line 5)) (1.44.1)\n",
      "Requirement already satisfied: solara-ui==1.44.1 in /Library/Frameworks/Python.framework/Versions/3.12/lib/python3.12/site-packages (from solara-ui[all]==1.44.1->solara->-r requirements.txt (line 5)) (1.44.1)\n",
      "Requirement already satisfied: click>=7.1.0 in /Library/Frameworks/Python.framework/Versions/3.12/lib/python3.12/site-packages (from solara-server==1.44.1->solara-server[dev,starlette]==1.44.1->solara->-r requirements.txt (line 5)) (8.1.8)\n",
      "Requirement already satisfied: filelock in /Library/Frameworks/Python.framework/Versions/3.12/lib/python3.12/site-packages (from solara-server==1.44.1->solara-server[dev,starlette]==1.44.1->solara->-r requirements.txt (line 5)) (3.17.0)\n",
      "Requirement already satisfied: ipykernel in /Library/Frameworks/Python.framework/Versions/3.12/lib/python3.12/site-packages (from solara-server==1.44.1->solara-server[dev,starlette]==1.44.1->solara->-r requirements.txt (line 5)) (6.29.5)\n",
      "Requirement already satisfied: jinja2 in /Library/Frameworks/Python.framework/Versions/3.12/lib/python3.12/site-packages (from solara-server==1.44.1->solara-server[dev,starlette]==1.44.1->solara->-r requirements.txt (line 5)) (3.1.5)\n",
      "Requirement already satisfied: jupyter-client in /Library/Frameworks/Python.framework/Versions/3.12/lib/python3.12/site-packages (from solara-server==1.44.1->solara-server[dev,starlette]==1.44.1->solara->-r requirements.txt (line 5)) (8.6.3)\n",
      "Requirement already satisfied: nbformat in /Library/Frameworks/Python.framework/Versions/3.12/lib/python3.12/site-packages (from solara-server==1.44.1->solara-server[dev,starlette]==1.44.1->solara->-r requirements.txt (line 5)) (5.10.4)\n",
      "Requirement already satisfied: rich-click in /Library/Frameworks/Python.framework/Versions/3.12/lib/python3.12/site-packages (from solara-server==1.44.1->solara-server[dev,starlette]==1.44.1->solara->-r requirements.txt (line 5)) (1.8.6)\n",
      "Requirement already satisfied: watchdog in /Library/Frameworks/Python.framework/Versions/3.12/lib/python3.12/site-packages (from solara-server[dev,starlette]==1.44.1->solara->-r requirements.txt (line 5)) (6.0.0)\n",
      "Requirement already satisfied: watchfiles in /Library/Frameworks/Python.framework/Versions/3.12/lib/python3.12/site-packages (from solara-server[dev,starlette]==1.44.1->solara->-r requirements.txt (line 5)) (1.0.4)\n",
      "Requirement already satisfied: starlette in /Library/Frameworks/Python.framework/Versions/3.12/lib/python3.12/site-packages (from solara-server[dev,starlette]==1.44.1->solara->-r requirements.txt (line 5)) (0.46.0)\n",
      "Requirement already satisfied: uvicorn in /Library/Frameworks/Python.framework/Versions/3.12/lib/python3.12/site-packages (from solara-server[dev,starlette]==1.44.1->solara->-r requirements.txt (line 5)) (0.34.0)\n",
      "Requirement already satisfied: websockets in /Library/Frameworks/Python.framework/Versions/3.12/lib/python3.12/site-packages (from solara-server[dev,starlette]==1.44.1->solara->-r requirements.txt (line 5)) (15.0)\n",
      "Requirement already satisfied: humanize in /Library/Frameworks/Python.framework/Versions/3.12/lib/python3.12/site-packages (from solara-ui==1.44.1->solara-ui[all]==1.44.1->solara->-r requirements.txt (line 5)) (4.12.1)\n",
      "Requirement already satisfied: ipyvue>=1.9.0 in /Library/Frameworks/Python.framework/Versions/3.12/lib/python3.12/site-packages (from solara-ui==1.44.1->solara-ui[all]==1.44.1->solara->-r requirements.txt (line 5)) (1.11.2)\n",
      "Requirement already satisfied: ipyvuetify>=1.6.10 in /Library/Frameworks/Python.framework/Versions/3.12/lib/python3.12/site-packages (from solara-ui==1.44.1->solara-ui[all]==1.44.1->solara->-r requirements.txt (line 5)) (1.11.0)\n",
      "Requirement already satisfied: ipywidgets>=7.7 in /Library/Frameworks/Python.framework/Versions/3.12/lib/python3.12/site-packages (from solara-ui==1.44.1->solara-ui[all]==1.44.1->solara->-r requirements.txt (line 5)) (8.1.5)\n",
      "Requirement already satisfied: reacton>=1.9 in /Library/Frameworks/Python.framework/Versions/3.12/lib/python3.12/site-packages (from solara-ui==1.44.1->solara-ui[all]==1.44.1->solara->-r requirements.txt (line 5)) (1.9.1)\n",
      "Requirement already satisfied: requests in /Library/Frameworks/Python.framework/Versions/3.12/lib/python3.12/site-packages (from solara-ui==1.44.1->solara-ui[all]==1.44.1->solara->-r requirements.txt (line 5)) (2.32.3)\n",
      "Requirement already satisfied: cachetools in /Library/Frameworks/Python.framework/Versions/3.12/lib/python3.12/site-packages (from solara-ui[all]==1.44.1->solara->-r requirements.txt (line 5)) (5.5.2)\n",
      "Requirement already satisfied: markdown in /Library/Frameworks/Python.framework/Versions/3.12/lib/python3.12/site-packages (from solara-ui[all]==1.44.1->solara->-r requirements.txt (line 5)) (3.7)\n",
      "Requirement already satisfied: pygments in /Library/Frameworks/Python.framework/Versions/3.12/lib/python3.12/site-packages (from solara-ui[all]==1.44.1->solara->-r requirements.txt (line 5)) (2.19.1)\n",
      "Requirement already satisfied: pymdown-extensions in /Library/Frameworks/Python.framework/Versions/3.12/lib/python3.12/site-packages (from solara-ui[all]==1.44.1->solara->-r requirements.txt (line 5)) (10.14.3)\n",
      "Requirement already satisfied: pytz>=2020.1 in /Library/Frameworks/Python.framework/Versions/3.12/lib/python3.12/site-packages (from pandas->mesa[rec]->-r requirements.txt (line 1)) (2025.1)\n",
      "Requirement already satisfied: tzdata>=2022.7 in /Library/Frameworks/Python.framework/Versions/3.12/lib/python3.12/site-packages (from pandas->mesa[rec]->-r requirements.txt (line 1)) (2025.1)\n",
      "Requirement already satisfied: six>=1.5 in /Library/Frameworks/Python.framework/Versions/3.12/lib/python3.12/site-packages (from python-dateutil>=2.7->matplotlib->-r requirements.txt (line 4)) (1.17.0)\n",
      "Requirement already satisfied: jsonschema>=3.0 in /Library/Frameworks/Python.framework/Versions/3.12/lib/python3.12/site-packages (from altair->mesa[rec]->-r requirements.txt (line 1)) (4.23.0)\n",
      "Requirement already satisfied: narwhals>=1.14.2 in /Library/Frameworks/Python.framework/Versions/3.12/lib/python3.12/site-packages (from altair->mesa[rec]->-r requirements.txt (line 1)) (1.28.0)\n",
      "Requirement already satisfied: typing-extensions>=4.10.0 in /Library/Frameworks/Python.framework/Versions/3.12/lib/python3.12/site-packages (from altair->mesa[rec]->-r requirements.txt (line 1)) (4.12.2)\n",
      "Requirement already satisfied: comm>=0.1.3 in /Library/Frameworks/Python.framework/Versions/3.12/lib/python3.12/site-packages (from ipywidgets>=7.7->solara-ui==1.44.1->solara-ui[all]==1.44.1->solara->-r requirements.txt (line 5)) (0.2.2)\n",
      "Requirement already satisfied: ipython>=6.1.0 in /Library/Frameworks/Python.framework/Versions/3.12/lib/python3.12/site-packages (from ipywidgets>=7.7->solara-ui==1.44.1->solara-ui[all]==1.44.1->solara->-r requirements.txt (line 5)) (8.31.0)\n",
      "Requirement already satisfied: traitlets>=4.3.1 in /Library/Frameworks/Python.framework/Versions/3.12/lib/python3.12/site-packages (from ipywidgets>=7.7->solara-ui==1.44.1->solara-ui[all]==1.44.1->solara->-r requirements.txt (line 5)) (5.14.3)\n",
      "Requirement already satisfied: widgetsnbextension~=4.0.12 in /Library/Frameworks/Python.framework/Versions/3.12/lib/python3.12/site-packages (from ipywidgets>=7.7->solara-ui==1.44.1->solara-ui[all]==1.44.1->solara->-r requirements.txt (line 5)) (4.0.13)\n",
      "Requirement already satisfied: jupyterlab-widgets~=3.0.12 in /Library/Frameworks/Python.framework/Versions/3.12/lib/python3.12/site-packages (from ipywidgets>=7.7->solara-ui==1.44.1->solara-ui[all]==1.44.1->solara->-r requirements.txt (line 5)) (3.0.13)\n",
      "Requirement already satisfied: attrs>=22.2.0 in /Library/Frameworks/Python.framework/Versions/3.12/lib/python3.12/site-packages (from jsonschema>=3.0->altair->mesa[rec]->-r requirements.txt (line 1)) (24.3.0)\n",
      "Requirement already satisfied: jsonschema-specifications>=2023.03.6 in /Library/Frameworks/Python.framework/Versions/3.12/lib/python3.12/site-packages (from jsonschema>=3.0->altair->mesa[rec]->-r requirements.txt (line 1)) (2024.10.1)\n",
      "Requirement already satisfied: referencing>=0.28.4 in /Library/Frameworks/Python.framework/Versions/3.12/lib/python3.12/site-packages (from jsonschema>=3.0->altair->mesa[rec]->-r requirements.txt (line 1)) (0.35.1)\n",
      "Requirement already satisfied: rpds-py>=0.7.1 in /Library/Frameworks/Python.framework/Versions/3.12/lib/python3.12/site-packages (from jsonschema>=3.0->altair->mesa[rec]->-r requirements.txt (line 1)) (0.22.3)\n",
      "Requirement already satisfied: appnope in /Library/Frameworks/Python.framework/Versions/3.12/lib/python3.12/site-packages (from ipykernel->solara-server==1.44.1->solara-server[dev,starlette]==1.44.1->solara->-r requirements.txt (line 5)) (0.1.4)\n",
      "Requirement already satisfied: debugpy>=1.6.5 in /Library/Frameworks/Python.framework/Versions/3.12/lib/python3.12/site-packages (from ipykernel->solara-server==1.44.1->solara-server[dev,starlette]==1.44.1->solara->-r requirements.txt (line 5)) (1.8.11)\n",
      "Requirement already satisfied: jupyter-core!=5.0.*,>=4.12 in /Library/Frameworks/Python.framework/Versions/3.12/lib/python3.12/site-packages (from ipykernel->solara-server==1.44.1->solara-server[dev,starlette]==1.44.1->solara->-r requirements.txt (line 5)) (5.7.2)\n",
      "Requirement already satisfied: matplotlib-inline>=0.1 in /Library/Frameworks/Python.framework/Versions/3.12/lib/python3.12/site-packages (from ipykernel->solara-server==1.44.1->solara-server[dev,starlette]==1.44.1->solara->-r requirements.txt (line 5)) (0.1.7)\n",
      "Requirement already satisfied: nest-asyncio in /Library/Frameworks/Python.framework/Versions/3.12/lib/python3.12/site-packages (from ipykernel->solara-server==1.44.1->solara-server[dev,starlette]==1.44.1->solara->-r requirements.txt (line 5)) (1.6.0)\n",
      "Requirement already satisfied: psutil in /Library/Frameworks/Python.framework/Versions/3.12/lib/python3.12/site-packages (from ipykernel->solara-server==1.44.1->solara-server[dev,starlette]==1.44.1->solara->-r requirements.txt (line 5)) (6.1.1)\n",
      "Requirement already satisfied: pyzmq>=24 in /Library/Frameworks/Python.framework/Versions/3.12/lib/python3.12/site-packages (from ipykernel->solara-server==1.44.1->solara-server[dev,starlette]==1.44.1->solara->-r requirements.txt (line 5)) (26.2.0)\n",
      "Requirement already satisfied: tornado>=6.1 in /Library/Frameworks/Python.framework/Versions/3.12/lib/python3.12/site-packages (from ipykernel->solara-server==1.44.1->solara-server[dev,starlette]==1.44.1->solara->-r requirements.txt (line 5)) (6.4.2)\n",
      "Requirement already satisfied: MarkupSafe>=2.0 in /Library/Frameworks/Python.framework/Versions/3.12/lib/python3.12/site-packages (from jinja2->solara-server==1.44.1->solara-server[dev,starlette]==1.44.1->solara->-r requirements.txt (line 5)) (3.0.2)\n",
      "Requirement already satisfied: fastjsonschema>=2.15 in /Library/Frameworks/Python.framework/Versions/3.12/lib/python3.12/site-packages (from nbformat->solara-server==1.44.1->solara-server[dev,starlette]==1.44.1->solara->-r requirements.txt (line 5)) (2.21.1)\n",
      "Requirement already satisfied: pyyaml in /Library/Frameworks/Python.framework/Versions/3.12/lib/python3.12/site-packages (from pymdown-extensions->solara-ui[all]==1.44.1->solara->-r requirements.txt (line 5)) (6.0.2)\n",
      "Requirement already satisfied: charset-normalizer<4,>=2 in /Library/Frameworks/Python.framework/Versions/3.12/lib/python3.12/site-packages (from requests->solara-ui==1.44.1->solara-ui[all]==1.44.1->solara->-r requirements.txt (line 5)) (3.4.1)\n",
      "Requirement already satisfied: idna<4,>=2.5 in /Library/Frameworks/Python.framework/Versions/3.12/lib/python3.12/site-packages (from requests->solara-ui==1.44.1->solara-ui[all]==1.44.1->solara->-r requirements.txt (line 5)) (3.10)\n",
      "Requirement already satisfied: urllib3<3,>=1.21.1 in /Library/Frameworks/Python.framework/Versions/3.12/lib/python3.12/site-packages (from requests->solara-ui==1.44.1->solara-ui[all]==1.44.1->solara->-r requirements.txt (line 5)) (2.3.0)\n",
      "Requirement already satisfied: certifi>=2017.4.17 in /Library/Frameworks/Python.framework/Versions/3.12/lib/python3.12/site-packages (from requests->solara-ui==1.44.1->solara-ui[all]==1.44.1->solara->-r requirements.txt (line 5)) (2024.12.14)\n",
      "Requirement already satisfied: rich>=10.7 in /Library/Frameworks/Python.framework/Versions/3.12/lib/python3.12/site-packages (from rich-click->solara-server==1.44.1->solara-server[dev,starlette]==1.44.1->solara->-r requirements.txt (line 5)) (13.9.4)\n",
      "Requirement already satisfied: anyio<5,>=3.6.2 in /Library/Frameworks/Python.framework/Versions/3.12/lib/python3.12/site-packages (from starlette->solara-server[dev,starlette]==1.44.1->solara->-r requirements.txt (line 5)) (4.8.0)\n",
      "Requirement already satisfied: h11>=0.8 in /Library/Frameworks/Python.framework/Versions/3.12/lib/python3.12/site-packages (from uvicorn->solara-server[dev,starlette]==1.44.1->solara->-r requirements.txt (line 5)) (0.14.0)\n",
      "Requirement already satisfied: sniffio>=1.1 in /Library/Frameworks/Python.framework/Versions/3.12/lib/python3.12/site-packages (from anyio<5,>=3.6.2->starlette->solara-server[dev,starlette]==1.44.1->solara->-r requirements.txt (line 5)) (1.3.1)\n",
      "Requirement already satisfied: decorator in /Library/Frameworks/Python.framework/Versions/3.12/lib/python3.12/site-packages (from ipython>=6.1.0->ipywidgets>=7.7->solara-ui==1.44.1->solara-ui[all]==1.44.1->solara->-r requirements.txt (line 5)) (5.1.1)\n",
      "Requirement already satisfied: jedi>=0.16 in /Library/Frameworks/Python.framework/Versions/3.12/lib/python3.12/site-packages (from ipython>=6.1.0->ipywidgets>=7.7->solara-ui==1.44.1->solara-ui[all]==1.44.1->solara->-r requirements.txt (line 5)) (0.19.2)\n",
      "Requirement already satisfied: pexpect>4.3 in /Library/Frameworks/Python.framework/Versions/3.12/lib/python3.12/site-packages (from ipython>=6.1.0->ipywidgets>=7.7->solara-ui==1.44.1->solara-ui[all]==1.44.1->solara->-r requirements.txt (line 5)) (4.9.0)\n",
      "Requirement already satisfied: prompt_toolkit<3.1.0,>=3.0.41 in /Library/Frameworks/Python.framework/Versions/3.12/lib/python3.12/site-packages (from ipython>=6.1.0->ipywidgets>=7.7->solara-ui==1.44.1->solara-ui[all]==1.44.1->solara->-r requirements.txt (line 5)) (3.0.48)\n",
      "Requirement already satisfied: stack_data in /Library/Frameworks/Python.framework/Versions/3.12/lib/python3.12/site-packages (from ipython>=6.1.0->ipywidgets>=7.7->solara-ui==1.44.1->solara-ui[all]==1.44.1->solara->-r requirements.txt (line 5)) (0.6.3)\n",
      "Requirement already satisfied: platformdirs>=2.5 in /Library/Frameworks/Python.framework/Versions/3.12/lib/python3.12/site-packages (from jupyter-core!=5.0.*,>=4.12->ipykernel->solara-server==1.44.1->solara-server[dev,starlette]==1.44.1->solara->-r requirements.txt (line 5)) (4.3.6)\n",
      "Requirement already satisfied: markdown-it-py>=2.2.0 in /Library/Frameworks/Python.framework/Versions/3.12/lib/python3.12/site-packages (from rich>=10.7->rich-click->solara-server==1.44.1->solara-server[dev,starlette]==1.44.1->solara->-r requirements.txt (line 5)) (3.0.0)\n",
      "Requirement already satisfied: parso<0.9.0,>=0.8.4 in /Library/Frameworks/Python.framework/Versions/3.12/lib/python3.12/site-packages (from jedi>=0.16->ipython>=6.1.0->ipywidgets>=7.7->solara-ui==1.44.1->solara-ui[all]==1.44.1->solara->-r requirements.txt (line 5)) (0.8.4)\n",
      "Requirement already satisfied: mdurl~=0.1 in /Library/Frameworks/Python.framework/Versions/3.12/lib/python3.12/site-packages (from markdown-it-py>=2.2.0->rich>=10.7->rich-click->solara-server==1.44.1->solara-server[dev,starlette]==1.44.1->solara->-r requirements.txt (line 5)) (0.1.2)\n",
      "Requirement already satisfied: ptyprocess>=0.5 in /Library/Frameworks/Python.framework/Versions/3.12/lib/python3.12/site-packages (from pexpect>4.3->ipython>=6.1.0->ipywidgets>=7.7->solara-ui==1.44.1->solara-ui[all]==1.44.1->solara->-r requirements.txt (line 5)) (0.7.0)\n",
      "Requirement already satisfied: wcwidth in /Library/Frameworks/Python.framework/Versions/3.12/lib/python3.12/site-packages (from prompt_toolkit<3.1.0,>=3.0.41->ipython>=6.1.0->ipywidgets>=7.7->solara-ui==1.44.1->solara-ui[all]==1.44.1->solara->-r requirements.txt (line 5)) (0.2.13)\n",
      "Requirement already satisfied: executing>=1.2.0 in /Library/Frameworks/Python.framework/Versions/3.12/lib/python3.12/site-packages (from stack_data->ipython>=6.1.0->ipywidgets>=7.7->solara-ui==1.44.1->solara-ui[all]==1.44.1->solara->-r requirements.txt (line 5)) (2.1.0)\n",
      "Requirement already satisfied: asttokens>=2.1.0 in /Library/Frameworks/Python.framework/Versions/3.12/lib/python3.12/site-packages (from stack_data->ipython>=6.1.0->ipywidgets>=7.7->solara-ui==1.44.1->solara-ui[all]==1.44.1->solara->-r requirements.txt (line 5)) (3.0.0)\n",
      "Requirement already satisfied: pure-eval in /Library/Frameworks/Python.framework/Versions/3.12/lib/python3.12/site-packages (from stack_data->ipython>=6.1.0->ipywidgets>=7.7->solara-ui==1.44.1->solara-ui[all]==1.44.1->solara->-r requirements.txt (line 5)) (0.2.3)\n"
     ]
    }
   ],
   "source": [
    "!pip install -r requirements.txt"
   ]
  },
  {
   "cell_type": "markdown",
   "id": "6be76762",
   "metadata": {
    "id": "6be76762"
   },
   "source": [
    "### Test\n",
    "\n",
    "Attendez de voir **deux fois** le message « *Note: you may need to restart the kernel to use updated packages* » et vérifiez que cela fonctionne en exécutant la cellule suivante:"
   ]
  },
  {
   "cell_type": "code",
   "execution_count": 2,
   "id": "8a336471",
   "metadata": {
    "executionInfo": {
     "elapsed": 3367,
     "status": "ok",
     "timestamp": 1742847074908,
     "user": {
      "displayName": "Wassila Ouerdane",
      "userId": "06311256887956564892"
     },
     "user_tz": -60
    },
    "id": "8a336471"
   },
   "outputs": [],
   "source": [
    "import mesa\n",
    "from mesa import *\n",
    "from random import *\n",
    "import seaborn as sns\n",
    "%matplotlib inline\n",
    "import matplotlib.pyplot as plt"
   ]
  },
  {
   "cell_type": "code",
   "execution_count": 4,
   "id": "8xBj111NxvBa",
   "metadata": {
    "colab": {
     "base_uri": "https://localhost:8080/"
    },
    "executionInfo": {
     "elapsed": 7,
     "status": "ok",
     "timestamp": 1742847076482,
     "user": {
      "displayName": "Wassila Ouerdane",
      "userId": "06311256887956564892"
     },
     "user_tz": -60
    },
    "id": "8xBj111NxvBa",
    "outputId": "dbaf32cf-ba68-4c44-e2b0-885ea1c6c434"
   },
   "outputs": [
    {
     "name": "stdout",
     "output_type": "stream",
     "text": [
      "Mesa version: 3.1.4\n"
     ]
    }
   ],
   "source": [
    "\n",
    "print(f\"Mesa version: {mesa.__version__}\")\n"
   ]
  },
  {
   "cell_type": "markdown",
   "id": "4a36fcf4",
   "metadata": {
    "id": "4a36fcf4"
   },
   "source": [
    "<div class =\"alert alert-block alert-success\">\n",
    "    <b>S'il n'y a pas de message d'erreur, c'est que tout est bon. Vous pouvez continuer</b>\n",
    "</div>"
   ]
  },
  {
   "cell_type": "markdown",
   "id": "a7eabbb4",
   "metadata": {
    "id": "a7eabbb4"
   },
   "source": [
    "## C'est parti !\n",
    "\n",
    "En Mesa, les agents sont construits en utilisant la classe Agent avec de l'héritage, comme nous l'avons fait en fin de matinée. Construisons un agent `MoneyAgent` contenant juste un attribut `wealth` initialisé à 1 et une boucle procédurale minimale qui affiche un message :"
   ]
  },
  {
   "cell_type": "code",
   "execution_count": 3,
   "id": "dcb96500",
   "metadata": {
    "executionInfo": {
     "elapsed": 4,
     "status": "ok",
     "timestamp": 1742847838199,
     "user": {
      "displayName": "Wassila Ouerdane",
      "userId": "06311256887956564892"
     },
     "user_tz": -60
    },
    "id": "dcb96500"
   },
   "outputs": [],
   "source": [
    "class MoneyAgent(Agent):\n",
    "    \"\"\"An agent with fixed initial wealth.\"\"\"\n",
    "\n",
    "    def __init__(self, model):\n",
    "        # Pass the parameters to the parent class.\n",
    "        super().__init__(model)\n",
    "\n",
    "        # Create the agent's variable and set the initial values.\n",
    "        self.wealth = 1\n",
    "\n",
    "    def step_agent(self):\n",
    "        # The agent's step will go here.\n",
    "        # For demonstration purposes we will print the agent's unique_id\n",
    "        print(f\"Hi, I am an agent, you can call me {str(self.unique_id)}.\")\n"
   ]
  },
  {
   "cell_type": "markdown",
   "id": "e8da0d48",
   "metadata": {
    "id": "e8da0d48"
   },
   "source": [
    "**(n'oubliez pas d'exécuter la cellule ci-dessus)**\n",
    "\n",
    "Vous noterez les paramètres du constructeur :\n",
    "* un identifiant unique\n",
    "* un *model* qui correspond à l'environnement ou au *runtime* vu ce matin\n",
    "\n",
    "Ainsi que le nom de la méthode décrivant la **boucle procédurale** : `step`.\n",
    "\n",
    "\n",
    "Construisons maintenant une classe héritant de `Model` pour définir l'environnement d'exécution. Nous écrivons aussi une méthode `step` qui demande au scheduleur d'exécuter tous les agents 1 fois (nous sommes dans un SMA synchrone). *Cette méthode sera utilisée par l'interface de visualisation que nous verrons en fin de séance.*"
   ]
  },
  {
   "cell_type": "code",
   "execution_count": 4,
   "id": "Tvw2XxHT0M9d",
   "metadata": {
    "executionInfo": {
     "elapsed": 42,
     "status": "ok",
     "timestamp": 1742847916396,
     "user": {
      "displayName": "Wassila Ouerdane",
      "userId": "06311256887956564892"
     },
     "user_tz": -60
    },
    "id": "Tvw2XxHT0M9d"
   },
   "outputs": [],
   "source": [
    "class MoneyModel(Model):\n",
    "  \"\"\"A model with some number of agents.\"\"\"\n",
    "\n",
    "  def __init__(self, N, seed=None):\n",
    "        super().__init__(seed=seed)\n",
    "        for i in range(N):\n",
    "            newagent = MoneyAgent(self)\n",
    "\n",
    "\n",
    "  def step(self):\n",
    "      self.agents.shuffle_do(\"step_agent\")\n",
    "\n"
   ]
  },
  {
   "cell_type": "code",
   "execution_count": 5,
   "id": "2vi7ZO2p1KAm",
   "metadata": {
    "colab": {
     "base_uri": "https://localhost:8080/"
    },
    "executionInfo": {
     "elapsed": 16,
     "status": "ok",
     "timestamp": 1742847920251,
     "user": {
      "displayName": "Wassila Ouerdane",
      "userId": "06311256887956564892"
     },
     "user_tz": -60
    },
    "id": "2vi7ZO2p1KAm",
    "outputId": "6b422f3a-e50b-4af1-d432-d9e3e72f4ff7"
   },
   "outputs": [
    {
     "name": "stdout",
     "output_type": "stream",
     "text": [
      "Hi, I am an agent, you can call me 3.\n",
      "Hi, I am an agent, you can call me 1.\n",
      "Hi, I am an agent, you can call me 2.\n",
      "Hi, I am an agent, you can call me 4.\n",
      "Hi, I am an agent, you can call me 3.\n",
      "Hi, I am an agent, you can call me 2.\n",
      "Hi, I am an agent, you can call me 1.\n",
      "Hi, I am an agent, you can call me 4.\n",
      "Hi, I am an agent, you can call me 1.\n",
      "Hi, I am an agent, you can call me 4.\n",
      "Hi, I am an agent, you can call me 2.\n",
      "Hi, I am an agent, you can call me 3.\n"
     ]
    }
   ],
   "source": [
    "#Running the Model\n",
    "starter_model = MoneyModel(4)\n",
    "for i in range(3):\n",
    "  starter_model.step()"
   ]
  },
  {
   "cell_type": "markdown",
   "id": "7ee247bc",
   "metadata": {
    "id": "7ee247bc"
   },
   "source": [
    "Vous pouvez maintenant exécuter votre SMA !"
   ]
  },
  {
   "cell_type": "markdown",
   "id": "e014309c",
   "metadata": {
    "id": "e014309c"
   },
   "source": [
    "Vous voyez peut-être un avertissement (message rouge). Ce n'est pas grave, vous pouvez l'ignorer.\n",
    "\n",
    "<div class =\"alert alert-block alert-success\">\n",
    "    <b>Notez que l'ordre des agents change à chaque tour.</b>\n",
    "</div>"
   ]
  },
  {
   "cell_type": "markdown",
   "id": "bd75518f",
   "metadata": {
    "id": "bd75518f"
   },
   "source": [
    "## À vous de jouer !\n",
    "\n",
    "Nous allons implémenter un modèle multiagent pour étudier la distribution des richesses au sein d'une population d'agents. Chaque agent commence avec une unité de richesse (**wealth**). À chaque tour de boucle procédurale, un agent qui a une valeur de richesse positive sélectionne aléatoirement un agent dans la liste des agents et lui donne une unité. Nous allons voir que cela produit naturellement des inégalités de richesses en suivant une distribution de Boltzmann (http://www.phys.ufl.edu/~meisel/Boltzmann.pdf).\n",
    "\n",
    "Pour cela, vous devez donc reprendre le code ci-dessous et modifier la fonction `step` des agents pour qu'ils effectuent les actions suivantes :\n",
    "- Vérifier leur valeur de `wealth`;\n",
    "- Si elle est positive, sélectionner un agent et lui donner **1 wealth**.\n",
    "\n",
    "Pour sélectionner un agent au hasard, vous pouvez utiliser :\n",
    "- L'attribut `agents` du *scheduler* (auquel vous ouvez accéder depuis l'agent par `self.model.schedule.agents`)\n",
    "- La fonction `choice` de la bibliothèque *random* (à laquelle vous pouvez accéder directement puisque nous l'avons importée)\n",
    "\n",
    "Pour afficher la répartition des richesses, nous utiliserons le code fourni."
   ]
  },
  {
   "cell_type": "code",
   "execution_count": 6,
   "id": "856538c6",
   "metadata": {
    "id": "856538c6"
   },
   "outputs": [
    {
     "data": {
      "image/png": "[encoded data removed]",
      "text/plain": [
       "<Figure size 640x480 with 1 Axes>"
      ]
     },
     "metadata": {},
     "output_type": "display_data"
    }
   ],
   "source": [
    "class MoneyAgent(Agent):\n",
    "\n",
    "    def __init__(self, model):\n",
    "        # Pass the parameters to the parent class.\n",
    "        super().__init__(model)\n",
    "        self.wealth = 1\n",
    "\n",
    "    def step_agent(self):\n",
    "      pass\n",
    "\n",
    "      # A COMPLETER\n",
    "\n",
    "class MoneyAgent(Agent):\n",
    "    def __init__(self, model):\n",
    "        # Pass the parameters to the parent class.\n",
    "        super().__init__(model)\n",
    "        self.wealth = 1\n",
    "\n",
    "    def step_agent(self):\n",
    "        if self.wealth > 0:\n",
    "            other_agent = self.random.choice(self.model.agents)\n",
    "            if other_agent is not None:\n",
    "                other_agent.wealth += 1\n",
    "                self.wealth -= 1\n",
    "\n",
    "\n",
    "# Fonction pour afficher la distribution des richesses\n",
    "def show_wealth_distribution(model):\n",
    "    # Create a histogram with seaborn\n",
    "    agent_wealth = [a.wealth for a in model.agents]\n",
    "    g = sns.histplot(agent_wealth, discrete=True)\n",
    "    g.set(\n",
    "        title=\"Wealth distribution\", xlabel=\"Wealth\", ylabel=\"Number of agents\"\n",
    "    );  # The semicolon is just to avoid printing the object representation\n",
    "    plt.show()\n",
    "\n",
    "# Exécution de 50 agents sur 1000 pas de temps\n",
    "def run_test():\n",
    "    model = MoneyModel(50)\n",
    "    for i in range(1000):\n",
    "        model.step()\n",
    "    show_wealth_distribution(model)\n",
    "\n",
    "run_test()"
   ]
  },
  {
   "cell_type": "markdown",
   "id": "fd30c5fc",
   "metadata": {
    "id": "fd30c5fc"
   },
   "source": [
    "<div class =\"alert alert-block alert-success\">\n",
    "\n",
    "<b>Correction ci-après</b>\n",
    "\n",
    "\n",
    "</div>   \n"
   ]
  },
  {
   "cell_type": "markdown",
   "id": "40200928",
   "metadata": {
    "id": "40200928"
   },
   "source": [
    "### Correction\n",
    "**Attention :** ne regardez pas tout de suite la correction ! Essayez d'abord de le faire vous-même !"
   ]
  },
  {
   "cell_type": "code",
   "execution_count": 7,
   "id": "ffdda7ee",
   "metadata": {
    "colab": {
     "base_uri": "https://localhost:8080/",
     "height": 472
    },
    "executionInfo": {
     "elapsed": 720,
     "status": "ok",
     "timestamp": 1742848797513,
     "user": {
      "displayName": "Wassila Ouerdane",
      "userId": "06311256887956564892"
     },
     "user_tz": -60
    },
    "id": "ffdda7ee",
    "outputId": "ca155835-648d-43b9-e6b1-89399cecdbe3"
   },
   "outputs": [
    {
     "data": {
      "image/png": "[encoded data removed]",
      "text/plain": [
       "<Figure size 640x480 with 1 Axes>"
      ]
     },
     "metadata": {},
     "output_type": "display_data"
    }
   ],
   "source": [
    "class MoneyAgent(Agent):\n",
    "    def __init__(self, model):\n",
    "        # Pass the parameters to the parent class.\n",
    "        super().__init__(model)\n",
    "        self.wealth = 1\n",
    "\n",
    "    def step_agent(self):\n",
    "        if self.wealth > 0:\n",
    "            other_agent = self.random.choice(self.model.agents)\n",
    "            if other_agent is not None:\n",
    "                other_agent.wealth += 1\n",
    "                self.wealth -= 1\n",
    "\n",
    "\n",
    "# Fonction pour afficher la distribution des richesses\n",
    "def show_wealth_distribution(model):\n",
    "    # Create a histogram with seaborn\n",
    "    agent_wealth = [a.wealth for a in model.agents]\n",
    "    g = sns.histplot(agent_wealth, discrete=True)\n",
    "    g.set(\n",
    "        title=\"Wealth distribution\", xlabel=\"Wealth\", ylabel=\"Number of agents\"\n",
    "    );  # The semicolon is just to avoid printing the object representation\n",
    "    plt.show()\n",
    "\n",
    "# Exécution de 50 agents sur 1000 pas de temps\n",
    "def run_test():\n",
    "    model = MoneyModel(50)\n",
    "    for i in range(1000):\n",
    "        model.step()\n",
    "    show_wealth_distribution(model)\n",
    "\n",
    "run_test()"
   ]
  },
  {
   "cell_type": "markdown",
   "id": "fd04539f",
   "metadata": {
    "id": "fd04539f"
   },
   "source": [
    "## Ajout d'un environnement « Grille »\n",
    "\n",
    "Dans beaucoup de systèmes multi-agents, les agents sont positionnés dans l'espace, se déplacent et interagissent avec leurs voisins. Mesa propose plusieurs environnements pour situer géographiquement les agents. Nous allons utiliser l'environnement `MultiGrid` qui, comme son nom l'indique, consiste en une grille dans laquelle chaque case peut héberger un ou plusieurs agents.\n",
    "\n",
    "Dans le code ci-dessous, nous créons une grille **de taille width x height**, avec une topologie **torique** (le bord gauche rejoint le bord droit, idem pour le bord haut et le bord bas), et nous plaçons aléatoirement nos agents sur la grille à l'aide de la méthode `place_agent`.\n",
    "\n",
    "Chaque agent dispose d'un attribut `pos` qui définit sa position. Lorsqu'on appelle la méthode `place_agent`, cela modifie aussi la valeur de `pos`."
   ]
  },
  {
   "cell_type": "code",
   "execution_count": 8,
   "id": "dba74670",
   "metadata": {
    "executionInfo": {
     "elapsed": 13,
     "status": "ok",
     "timestamp": 1742848980514,
     "user": {
      "displayName": "Wassila Ouerdane",
      "userId": "06311256887956564892"
     },
     "user_tz": -60
    },
    "id": "dba74670"
   },
   "outputs": [],
   "source": [
    "from mesa.space import MultiGrid\n",
    "\n",
    "class MoneyModel(Model):\n",
    "    \"\"\"A model with some number of agents.\"\"\"\n",
    "\n",
    "    def __init__(self, N=100, width=10, height=10, seed=None):\n",
    "        \"\"\"Initialize the model.\n",
    "\n",
    "        Args:\n",
    "            n (int, optional): Number of agents. Defaults to 100.\n",
    "            width (int, optional): Grid width. Defaults to 10.\n",
    "            height (int, optional): Grid height. Defaults to 10.\n",
    "            seed (int, optional): Random seed. Defaults to None.\n",
    "        \"\"\"\n",
    "        super().__init__(seed=seed)\n",
    "        self.grid = MultiGrid(width, height, torus=True) # toroidal\n",
    "        for i in range(N):\n",
    "            agent = MoneyAgent(self)\n",
    "\n",
    "            # Add agent to random grid cell\n",
    "            x = self.random.randrange(self.grid.width)\n",
    "            y = self.random.randrange(self.grid.height)\n",
    "            self.grid.place_agent(agent, (x, y))\n",
    "\n",
    "\n",
    "    def step(self):\n",
    "        self.agents.shuffle_do(\"step_agent\")\n",
    "\n",
    "\n",
    "# Nous avons redéfini run_test() pour créer une grille de taille 10x10\n",
    "def run_test():\n",
    "    model = MoneyModel(50,10,10)\n",
    "    for i in range(1000):\n",
    "        model.step()\n",
    "    show_wealth_distribution(model)"
   ]
  },
  {
   "cell_type": "markdown",
   "id": "e99be2d2",
   "metadata": {
    "id": "e99be2d2"
   },
   "source": [
    "**(n'oubliez pas d'exécuter la cellule ci-dessus)**\n",
    "\n",
    "### À vous de jouer\n",
    "\n",
    "Modifiez le code précédent de manière à ce que les agents se déplacent aléatoirement à chaque tour et n'échangent de richesse qu'avec les agents proches d'eux.\n",
    "\n",
    "N'oubliez pas que vous pouvez utiliser l'attribut `self.pos` pour récupérer la position courante de votre agent.\n",
    "\n",
    "Pour calculer les case voisines, il existe dans la classe `MultiGrid` une méthode `get_neighborhood` qui vous revoie les cases voisines. Elle s'utilise de la manière suivante :\n",
    "\n",
    "`get_neighborhood(\n",
    "            self.pos, moore=True, include_center=False\n",
    "        )`\n",
    "\n",
    "Le paramètre **moore** permet d'indiquer si vous voulez les 8 cases voisines (voisinage de Moore) ou seulement les 4 (haut, bas, gauche et droite : voisinage de Von Neumann). Le paramètre **include_center** vous permet d'indiquer si la case passée dans **position** doit être prise en compte ou non.\n",
    "\n",
    "Enfin, pour récupérer la liste des agents dans les cellules voisines, vous pouvez utiliser la méthode `get_cell_list_contents` de la classe `MultiGrid` qui prend en paramètre la **liste des cases** dans lesquelles il faut chercher des agents (dans notre cas, `[self.pos]`)."
   ]
  },
  {
   "cell_type": "code",
   "execution_count": null,
   "id": "d1608794",
   "metadata": {
    "id": "d1608794"
   },
   "outputs": [],
   "source": [
    "class MoneyAgent(Agent):\n",
    "\n",
    "   def __init__(self, model):\n",
    "        # Pass the parameters to the parent class.\n",
    "        super().__init__(model)\n",
    "        self.wealth = 1\n",
    "\n",
    "   def step(self):\n",
    "      pass\n",
    "\n",
    "        # A COMPLETER\n",
    "\n",
    "# test\n",
    "run_test()"
   ]
  },
  {
   "cell_type": "markdown",
   "id": "12fe8d6e",
   "metadata": {
    "id": "12fe8d6e"
   },
   "source": [
    "<div class =\"alert alert-block alert-success\">\n",
    "\n",
    "<b>Correction ci-après</b>\n",
    "\n",
    "\n",
    "</div>   \n"
   ]
  },
  {
   "cell_type": "markdown",
   "id": "5d23dd1d",
   "metadata": {
    "id": "5d23dd1d"
   },
   "source": [
    "### Correction\n",
    "**Attention :** ne regardez pas tout de suite la correction ! Essayez d'abord de le faire vous-même !"
   ]
  },
  {
   "cell_type": "code",
   "execution_count": 9,
   "id": "e6afd611",
   "metadata": {
    "colab": {
     "base_uri": "https://localhost:8080/",
     "height": 472
    },
    "executionInfo": {
     "elapsed": 338,
     "status": "ok",
     "timestamp": 1742849556297,
     "user": {
      "displayName": "Wassila Ouerdane",
      "userId": "06311256887956564892"
     },
     "user_tz": -60
    },
    "id": "e6afd611",
    "outputId": "c27e2f71-cb73-4c21-937f-6630cff07f1a"
   },
   "outputs": [
    {
     "data": {
      "image/png": "[encoded data removed]",
      "text/plain": [
       "<Figure size 640x480 with 1 Axes>"
      ]
     },
     "metadata": {},
     "output_type": "display_data"
    }
   ],
   "source": [
    "class MoneyAgent(Agent):\n",
    "    def __init__(self, model):\n",
    "        # Pass the parameters to the parent class.\n",
    "        super().__init__(model)\n",
    "        self.wealth = 1\n",
    "\n",
    "    def step_agent(self):\n",
    "        # move\n",
    "        neighbors = self.model.grid.get_neighborhood(\n",
    "            self.pos, moore=True, include_center=False\n",
    "        )\n",
    "        new_position = self.random.choice(neighbors)\n",
    "        self.model.grid.move_agent(self, new_position)\n",
    "        # give\n",
    "        if self.wealth > 0:\n",
    "            cellmates = self.model.grid.get_cell_list_contents([self.pos])\n",
    "            if len(cellmates) > 1:\n",
    "                other = choice(cellmates)\n",
    "                other.wealth += 1\n",
    "                self.wealth -= 1\n",
    "\n",
    "\n",
    "# test\n",
    "run_test()"
   ]
  },
  {
   "cell_type": "markdown",
   "id": "c2afb52f",
   "metadata": {
    "id": "c2afb52f"
   },
   "source": [
    "## Un deuxième type d'agent\n",
    "\n",
    "Le SMA que nous avons implémenté jusqu'ici pourrait laisser penser qu'on utilise une seule classe d'agent dans un SMA en Mesa. Ce n'est pas le cas. Comme pour l'exemple de ce matin, nous avons généralement besoin de définir des classes différentes selon les type d'agents.\n",
    "\n",
    "Modifiez la simulation précédente en introduisant, en plus des **N** agents MoneyAgent, **M** agents *Robin des bois* qui sélectionnent un agent au hasard et prennent 50% de sa richesse pour les redistribuer aléatoirement (1 point par agent destinataire). Dès qu'ils possèdent 3 point de richesse ou plus, ils prennent sur leur richesse au lieu de la prendre à un autre agent."
   ]
  },
  {
   "cell_type": "code",
   "execution_count": null,
   "id": "5e2c2d04",
   "metadata": {
    "id": "5e2c2d04"
   },
   "outputs": [],
   "source": [
    "class MoneyModel(Model):\n",
    "\n",
    "    # N = MoneyAgent\n",
    "    # M = RobinHoodAgent\n",
    "    # width, height = width and height of the grid\n",
    "\n",
    "    def __init__(self, N, M, width, height, seed=None):\n",
    "\n",
    "        super().__init__(seed=seed)\n",
    "\n",
    "        # A COMPLETER\n",
    "\n",
    "\n",
    "    # La méthode step pour exécuter le modèle ne change pas\n",
    "    def step(self):\n",
    "        self.agents.shuffle_do(\"step_agent\")\n",
    "\n",
    "class RobinHoodAgent(Agent):\n",
    "  pass\n",
    "\n",
    "    # A COMPLETER\n",
    "\n",
    "\n",
    "# Nous avons redéfini run_test() pour y intégrer les agents robins des bois\n",
    "def run_test():\n",
    "    model = MoneyModel(50,2,10,10)\n",
    "    for i in range(1000):\n",
    "        model.step()\n",
    "    show_wealth_distribution(model)\n",
    "# test\n",
    "run_test()"
   ]
  },
  {
   "cell_type": "markdown",
   "id": "ac24e0fa",
   "metadata": {
    "id": "ac24e0fa"
   },
   "source": [
    "<div class =\"alert alert-block alert-success\">\n",
    "\n",
    "<b>Correction ci-après</b>\n",
    "\n",
    "\n",
    "</div>   \n"
   ]
  },
  {
   "cell_type": "markdown",
   "id": "4c2a39ba",
   "metadata": {
    "id": "4c2a39ba"
   },
   "source": [
    "### Correction\n",
    "**Attention :** ne regardez pas tout de suite la correction ! Essayez d'abord de le faire vous-même !"
   ]
  },
  {
   "cell_type": "code",
   "execution_count": 10,
   "id": "e6840b51",
   "metadata": {
    "colab": {
     "base_uri": "https://localhost:8080/",
     "height": 472
    },
    "executionInfo": {
     "elapsed": 664,
     "status": "ok",
     "timestamp": 1742850080163,
     "user": {
      "displayName": "Wassila Ouerdane",
      "userId": "06311256887956564892"
     },
     "user_tz": -60
    },
    "id": "e6840b51",
    "outputId": "c9451deb-b60d-415e-9930-4e1d97ce7f18"
   },
   "outputs": [
    {
     "data": {
      "image/png": "[encoded data removed]",
      "text/plain": [
       "<Figure size 640x480 with 1 Axes>"
      ]
     },
     "metadata": {},
     "output_type": "display_data"
    }
   ],
   "source": [
    "class MoneyModel(Model):\n",
    "\n",
    "    # N = MoneyAgent\n",
    "    # M = RobinHoodAgent\n",
    "    # width, height = width and height of the grid\n",
    "\n",
    "    def __init__(self, N, M,width, height, seed=None):\n",
    "\n",
    "        super().__init__(seed=seed)\n",
    "        self.grid = space.MultiGrid(width, height, True)\n",
    "        self.num_wanderers = N\n",
    "        for i in range(N):\n",
    "            agent = MoneyAgent(self)\n",
    "\n",
    "            # Add agent to random grid cell\n",
    "            x = self.random.randrange(self.grid.width)\n",
    "            y = self.random.randrange(self.grid.height)\n",
    "            self.grid.place_agent(agent, (x, y))\n",
    "\n",
    "\n",
    "        for i in range(M):\n",
    "            a = RobinHoodAgent(self)\n",
    "\n",
    "    def step(self):\n",
    "        self.agents.shuffle_do(\"step_agent\")\n",
    "\n",
    "class RobinHoodAgent(Agent):\n",
    "    def __init__(self, model):\n",
    "        super().__init__(model)\n",
    "        self.wealth = 1\n",
    "\n",
    "    def step_agent(self):\n",
    "        if self.wealth > 2:\n",
    "            other_agent = self\n",
    "        else:\n",
    "            other_agent = choice(self.model.agents)\n",
    "        if other_agent is not None:\n",
    "            w = other_agent.wealth//2\n",
    "            other_agent.wealth -= w\n",
    "            for i in range(w):\n",
    "                other_agent = choice(self.model.agents)\n",
    "                if other_agent is not None:\n",
    "                    other_agent.wealth += 1\n",
    "\n",
    "# Nous avons redéfini run_test() pour y intégrer les agents robins des bois\n",
    "def run_test():\n",
    "    model = MoneyModel(50,2,10,10)\n",
    "    for i in range(1000):\n",
    "        model.step()\n",
    "    show_wealth_distribution(model)\n",
    "# test\n",
    "run_test()"
   ]
  },
  {
   "cell_type": "markdown",
   "id": "890829c9",
   "metadata": {
    "id": "890829c9"
   },
   "source": [
    "## Calcul du coefficient de Gini (en vue de la visualisation)\n",
    "\n",
    "Le coefficient de Gini (ou *indice* de Gini) est une mesure statistique de l'inégalité de la répartition d'une variable dans une population. Dans notre cas, il permet de rendre compte de l'inégalité de richesse parmi nos agents. Un coefficient de Gini de 0 signifie l'égalité parfaite (tous les agents ont la même richesse) et 1 signifie une inégalité parfaite (un seul agent dispose de toutes les richesses et tous les autres n'ont rien).\n",
    "\n",
    "Le coefficient de Gini se calcule de la manière suivante :"
   ]
  },
  {
   "cell_type": "code",
   "execution_count": 11,
   "id": "f2f789c2",
   "metadata": {
    "executionInfo": {
     "elapsed": 5,
     "status": "ok",
     "timestamp": 1742850248572,
     "user": {
      "displayName": "Wassila Ouerdane",
      "userId": "06311256887956564892"
     },
     "user_tz": -60
    },
    "id": "f2f789c2"
   },
   "outputs": [],
   "source": [
    "# G = E / (2*M) with E the\n",
    "\n",
    "def compute_gini(model):\n",
    "    agent_wealths = [agent.wealth for agent in model.agents]\n",
    "    x = sorted(agent_wealths)\n",
    "    n = model.num_wanderers\n",
    "    B = sum(xi * (n - i) for i, xi in enumerate(x)) / (n * sum(x))\n",
    "    return 1 + (1 / n) - 2 * B"
   ]
  },
  {
   "cell_type": "markdown",
   "id": "9e77f90e",
   "metadata": {
    "id": "9e77f90e"
   },
   "source": [
    "**(n'oubliez pas d'exécuter la cellule ci-dessus)**\n",
    "\n",
    "### À vous de jouer\n",
    "\n",
    "Affichez le coefficient de Gini pour deux simulations, l'une avec des agents robins des bois et l'autre sans. Que constatez-vous ?"
   ]
  },
  {
   "cell_type": "code",
   "execution_count": null,
   "id": "197606bc",
   "metadata": {
    "id": "197606bc"
   },
   "outputs": [],
   "source": [
    "#\n",
    "#\n",
    "# RÉPONDEZ DANS CETTE CELLULE\n",
    "#\n",
    "#"
   ]
  },
  {
   "cell_type": "markdown",
   "id": "599f8fe1",
   "metadata": {
    "id": "599f8fe1"
   },
   "source": [
    "<div class =\"alert alert-block alert-success\">\n",
    "\n",
    "<b>Correction ci-après</b>\n",
    "\n",
    "\n",
    "</div>   \n"
   ]
  },
  {
   "cell_type": "markdown",
   "id": "c1523828",
   "metadata": {
    "id": "c1523828"
   },
   "source": [
    "### Correction\n",
    "**Attention :** ne regardez pas tout de suite la correction ! Essayez d'abord de le faire vous-même !"
   ]
  },
  {
   "cell_type": "code",
   "execution_count": 12,
   "id": "27b2e9a1",
   "metadata": {
    "colab": {
     "base_uri": "https://localhost:8080/"
    },
    "executionInfo": {
     "elapsed": 369,
     "status": "ok",
     "timestamp": 1742850252340,
     "user": {
      "displayName": "Wassila Ouerdane",
      "userId": "06311256887956564892"
     },
     "user_tz": -60
    },
    "id": "27b2e9a1",
    "outputId": "c5b166bc-1f5e-4cc7-d7e3-c828622fd809",
    "scrolled": true
   },
   "outputs": [
    {
     "name": "stdout",
     "output_type": "stream",
     "text": [
      "sans = 0.6992, avec = 0.6646153846153846\n"
     ]
    }
   ],
   "source": [
    "# sans\n",
    "model = MoneyModel(50,0,10,10)\n",
    "for i in range(1000):\n",
    "    model.step()\n",
    "g1 = compute_gini(model)\n",
    "\n",
    "# avec\n",
    "model = MoneyModel(50,2,10,10)\n",
    "for i in range(1000):\n",
    "    model.step()\n",
    "g2 = compute_gini(model)\n",
    "\n",
    "# résultat\n",
    "print(\"sans = {}, avec = {}\".format(g1,g2))"
   ]
  },
  {
   "cell_type": "markdown",
   "id": "e7154c3d",
   "metadata": {
    "id": "e7154c3d"
   },
   "source": [
    "## Collect de données (en vue de la visualisation)\n",
    "\n",
    "Mesa propose des fonctions pour collecter les variables des agents et du modèle. Nous allons avoir besoin de ces fonctions pour visualiser l'évolution du coefficient de Gini dans la simulation.\n",
    "\n",
    "La collecte de données se fait à l'aide de la classe `DataCollector`. Nous allons commencer par importer cette classe :"
   ]
  },
  {
   "cell_type": "code",
   "execution_count": 13,
   "id": "85c89aa8",
   "metadata": {
    "id": "85c89aa8"
   },
   "outputs": [],
   "source": [
    "from mesa.datacollection import DataCollector"
   ]
  },
  {
   "cell_type": "markdown",
   "id": "d5bf1dc6",
   "metadata": {
    "id": "d5bf1dc6"
   },
   "source": [
    "**(n'oubliez pas d'exécuter la cellule ci-dessus)**\n",
    "\n",
    "Nous allons devoir ajouter au modèle un objet de type `DataCollector` en lui donnant en paramètre les variables que nous souhaitons observer. Cela s'écrit de la manière suivante :"
   ]
  },
  {
   "cell_type": "code",
   "execution_count": 14,
   "id": "9c77f01b",
   "metadata": {
    "executionInfo": {
     "elapsed": 42,
     "status": "ok",
     "timestamp": 1742850365925,
     "user": {
      "displayName": "Wassila Ouerdane",
      "userId": "06311256887956564892"
     },
     "user_tz": -60
    },
    "id": "9c77f01b"
   },
   "outputs": [],
   "source": [
    "class MoneyModel(Model):\n",
    "    def __init__(self, N, M, width, height):\n",
    "        super().__init__()\n",
    "        self.grid = space.MultiGrid(width, height, True)\n",
    "        self.num_wanderers = N\n",
    "        for i in range(N):\n",
    "            a = MoneyAgent(self)\n",
    "            x = randrange(self.grid.width)\n",
    "            y = randrange(self.grid.height)\n",
    "            self.grid.place_agent(a, (x, y))\n",
    "        for i in range(M):\n",
    "            a = RobinHoodAgent(self)\n",
    "\n",
    "        # Ajout du collecteur\n",
    "        self.datacollector = DataCollector(agent_reporters={\"Wealth\": \"wealth\"},\n",
    "                                           model_reporters={\"Gini\": compute_gini})\n",
    "\n",
    "    def step(self):\n",
    "      self.datacollector.collect(self)\n",
    "      self.agents.shuffle_do(\"step_agent\")"
   ]
  },
  {
   "cell_type": "markdown",
   "id": "dbb5baf0",
   "metadata": {
    "id": "dbb5baf0"
   },
   "source": [
    "**(n'oubliez pas d'exécuter la cellule ci-dessus)**\n",
    "\n",
    "Vous remarquerez que nous avons passé deux arguments au collecteur :\n",
    "\n",
    "* `agent_reporter` pour les données à collecter chez les agents\n",
    "* `model_reporter` pour les données à collecter sur le modèle\n",
    "\n",
    "L'argument doit être un dictionnaire dont les clefs sont le nom que nous souhaitons attribuer à la valeur collectée, et les valeurs sont :\n",
    "\n",
    "* soit des chaînes de caractères indiquant l'attribut à collecter\n",
    "* soit des fonctions qui prendront en paramètre l'agent ou le modèle (selon le type de *reporter*)\n",
    "\n",
    "Prenez le temps de comprendre ce code et demandez aux enseignants si vous ne comprenez pas ce qui est exécuté.\n",
    "\n",
    "### Récupération des données\n",
    "\n",
    "Nous avons modifié la méthode `step` de la classe `MoneyModel` pour **collecter les données à chaque tour de boucle** de notre SMA. Elles ont été stockées dans le *collecteur* et nous pouvons les récupérer à l'aide des instructions suivantes :\n",
    "\n",
    "* `model.datacollector.get_agent_vars_dataframe()` pour les agents\n",
    "* `model.datacollector.get_model_vars_dataframe()` pour le modèle\n",
    "\n",
    "Nous pouvons ainsi afficher la courbe du coefficient de Gini dans le temps à l'aide du code suivant :"
   ]
  },
  {
   "cell_type": "code",
   "execution_count": 15,
   "id": "bbc34844",
   "metadata": {
    "colab": {
     "base_uri": "https://localhost:8080/",
     "height": 452
    },
    "executionInfo": {
     "elapsed": 547,
     "status": "ok",
     "timestamp": 1742850372532,
     "user": {
      "displayName": "Wassila Ouerdane",
      "userId": "06311256887956564892"
     },
     "user_tz": -60
    },
    "id": "bbc34844",
    "outputId": "307a793b-84ad-41c6-9ae7-81a7d95aaf1b"
   },
   "outputs": [
    {
     "data": {
      "image/png": "[encoded data removed]",
      "text/plain": [
       "<Figure size 640x480 with 1 Axes>"
      ]
     },
     "metadata": {},
     "output_type": "display_data"
    }
   ],
   "source": [
    "model = MoneyModel(50,2,10,10)\n",
    "for i in range(1000):\n",
    "    model.step()\n",
    "\n",
    "gini = model.datacollector.get_model_vars_dataframe()\n",
    "g = sns.lineplot(data=gini)\n",
    "g.set(title=\"Gini Coefficient over Time\", ylabel=\"Gini Coefficient\");\n",
    "plt.show()"
   ]
  },
  {
   "cell_type": "markdown",
   "id": "7922a69d",
   "metadata": {
    "id": "7922a69d"
   },
   "source": [
    "## Visualisation\n",
    "\n",
    "Pour la suite du TP, nous allons devoir utiliser une version native de Mesa, c'est à dire en dehors du Notebook Jupyter, afin de lancer le serveur de visualisation. Pour cela, vous allez devoir :\n",
    "\n",
    "1. Créez un nouveau projet Python dans l'environnement de développement VSCODE (par exemple dans un répertoire dedié, ou a minima dans un nouveau fichier .py).\n",
    "2. Recopiez le code de votre modèle et de vos agents **avec le collecteur de données** dans le fichier python. N'oubliez pas de recopie aussi le code de la fonction `compute_gini`. Vous devrez ajouter les import, mais pas l'instruction `%matplotlib inline` qui est propre à Jupyter.\n",
    "3. Testez votre code **avant d'aller plus loin**.\n",
    "\n",
    "#### Création de l'interface de visualisation\n",
    "\n",
    "Pour afficher l'interface de visualisation de Mesa, nous allons faire appel à la classe `ModularServer` de Mesa.\n",
    "Nous allons d'abord devoir définir une fonction pour dessiner les agents :"
   ]
  },
  {
   "cell_type": "code",
   "execution_count": 16,
   "id": "KX7wKo92_Oab",
   "metadata": {
    "colab": {
     "base_uri": "https://localhost:8080/"
    },
    "executionInfo": {
     "elapsed": 9184,
     "status": "ok",
     "timestamp": 1742850566101,
     "user": {
      "displayName": "Wassila Ouerdane",
      "userId": "06311256887956564892"
     },
     "user_tz": -60
    },
    "id": "KX7wKo92_Oab",
    "outputId": "e7f073ed-8a8d-442d-befc-5f41ca67ce91"
   },
   "outputs": [
    {
     "name": "stdout",
     "output_type": "stream",
     "text": [
      "Requirement already satisfied: solara in /Library/Frameworks/Python.framework/Versions/3.12/lib/python3.12/site-packages (1.44.1)\n",
      "Requirement already satisfied: solara-server==1.44.1 in /Library/Frameworks/Python.framework/Versions/3.12/lib/python3.12/site-packages (from solara-server[dev,starlette]==1.44.1->solara) (1.44.1)\n",
      "Requirement already satisfied: solara-ui==1.44.1 in /Library/Frameworks/Python.framework/Versions/3.12/lib/python3.12/site-packages (from solara-ui[all]==1.44.1->solara) (1.44.1)\n",
      "Requirement already satisfied: click>=7.1.0 in /Library/Frameworks/Python.framework/Versions/3.12/lib/python3.12/site-packages (from solara-server==1.44.1->solara-server[dev,starlette]==1.44.1->solara) (8.1.8)\n",
      "Requirement already satisfied: filelock in /Library/Frameworks/Python.framework/Versions/3.12/lib/python3.12/site-packages (from solara-server==1.44.1->solara-server[dev,starlette]==1.44.1->solara) (3.17.0)\n",
      "Requirement already satisfied: ipykernel in /Library/Frameworks/Python.framework/Versions/3.12/lib/python3.12/site-packages (from solara-server==1.44.1->solara-server[dev,starlette]==1.44.1->solara) (6.29.5)\n",
      "Requirement already satisfied: jinja2 in /Library/Frameworks/Python.framework/Versions/3.12/lib/python3.12/site-packages (from solara-server==1.44.1->solara-server[dev,starlette]==1.44.1->solara) (3.1.5)\n",
      "Requirement already satisfied: jupyter-client in /Library/Frameworks/Python.framework/Versions/3.12/lib/python3.12/site-packages (from solara-server==1.44.1->solara-server[dev,starlette]==1.44.1->solara) (8.6.3)\n",
      "Requirement already satisfied: nbformat in /Library/Frameworks/Python.framework/Versions/3.12/lib/python3.12/site-packages (from solara-server==1.44.1->solara-server[dev,starlette]==1.44.1->solara) (5.10.4)\n",
      "Requirement already satisfied: rich-click in /Library/Frameworks/Python.framework/Versions/3.12/lib/python3.12/site-packages (from solara-server==1.44.1->solara-server[dev,starlette]==1.44.1->solara) (1.8.6)\n",
      "Requirement already satisfied: watchdog in /Library/Frameworks/Python.framework/Versions/3.12/lib/python3.12/site-packages (from solara-server[dev,starlette]==1.44.1->solara) (6.0.0)\n",
      "Requirement already satisfied: watchfiles in /Library/Frameworks/Python.framework/Versions/3.12/lib/python3.12/site-packages (from solara-server[dev,starlette]==1.44.1->solara) (1.0.4)\n",
      "Requirement already satisfied: starlette in /Library/Frameworks/Python.framework/Versions/3.12/lib/python3.12/site-packages (from solara-server[dev,starlette]==1.44.1->solara) (0.46.0)\n",
      "Requirement already satisfied: uvicorn in /Library/Frameworks/Python.framework/Versions/3.12/lib/python3.12/site-packages (from solara-server[dev,starlette]==1.44.1->solara) (0.34.0)\n",
      "Requirement already satisfied: websockets in /Library/Frameworks/Python.framework/Versions/3.12/lib/python3.12/site-packages (from solara-server[dev,starlette]==1.44.1->solara) (15.0)\n",
      "Requirement already satisfied: humanize in /Library/Frameworks/Python.framework/Versions/3.12/lib/python3.12/site-packages (from solara-ui==1.44.1->solara-ui[all]==1.44.1->solara) (4.12.1)\n",
      "Requirement already satisfied: ipyvue>=1.9.0 in /Library/Frameworks/Python.framework/Versions/3.12/lib/python3.12/site-packages (from solara-ui==1.44.1->solara-ui[all]==1.44.1->solara) (1.11.2)\n",
      "Requirement already satisfied: ipyvuetify>=1.6.10 in /Library/Frameworks/Python.framework/Versions/3.12/lib/python3.12/site-packages (from solara-ui==1.44.1->solara-ui[all]==1.44.1->solara) (1.11.0)\n",
      "Requirement already satisfied: ipywidgets>=7.7 in /Library/Frameworks/Python.framework/Versions/3.12/lib/python3.12/site-packages (from solara-ui==1.44.1->solara-ui[all]==1.44.1->solara) (8.1.5)\n",
      "Requirement already satisfied: reacton>=1.9 in /Library/Frameworks/Python.framework/Versions/3.12/lib/python3.12/site-packages (from solara-ui==1.44.1->solara-ui[all]==1.44.1->solara) (1.9.1)\n",
      "Requirement already satisfied: requests in /Library/Frameworks/Python.framework/Versions/3.12/lib/python3.12/site-packages (from solara-ui==1.44.1->solara-ui[all]==1.44.1->solara) (2.32.3)\n",
      "Requirement already satisfied: cachetools in /Library/Frameworks/Python.framework/Versions/3.12/lib/python3.12/site-packages (from solara-ui[all]==1.44.1->solara) (5.5.2)\n",
      "Requirement already satisfied: markdown in /Library/Frameworks/Python.framework/Versions/3.12/lib/python3.12/site-packages (from solara-ui[all]==1.44.1->solara) (3.7)\n",
      "Requirement already satisfied: numpy in /Library/Frameworks/Python.framework/Versions/3.12/lib/python3.12/site-packages (from solara-ui[all]==1.44.1->solara) (1.26.4)\n",
      "Requirement already satisfied: pillow in /Library/Frameworks/Python.framework/Versions/3.12/lib/python3.12/site-packages (from solara-ui[all]==1.44.1->solara) (11.1.0)\n",
      "Requirement already satisfied: pygments in /Library/Frameworks/Python.framework/Versions/3.12/lib/python3.12/site-packages (from solara-ui[all]==1.44.1->solara) (2.19.1)\n",
      "Requirement already satisfied: pymdown-extensions in /Library/Frameworks/Python.framework/Versions/3.12/lib/python3.12/site-packages (from solara-ui[all]==1.44.1->solara) (10.14.3)\n",
      "Requirement already satisfied: comm>=0.1.3 in /Library/Frameworks/Python.framework/Versions/3.12/lib/python3.12/site-packages (from ipywidgets>=7.7->solara-ui==1.44.1->solara-ui[all]==1.44.1->solara) (0.2.2)\n",
      "Requirement already satisfied: ipython>=6.1.0 in /Library/Frameworks/Python.framework/Versions/3.12/lib/python3.12/site-packages (from ipywidgets>=7.7->solara-ui==1.44.1->solara-ui[all]==1.44.1->solara) (8.31.0)\n",
      "Requirement already satisfied: traitlets>=4.3.1 in /Library/Frameworks/Python.framework/Versions/3.12/lib/python3.12/site-packages (from ipywidgets>=7.7->solara-ui==1.44.1->solara-ui[all]==1.44.1->solara) (5.14.3)\n",
      "Requirement already satisfied: widgetsnbextension~=4.0.12 in /Library/Frameworks/Python.framework/Versions/3.12/lib/python3.12/site-packages (from ipywidgets>=7.7->solara-ui==1.44.1->solara-ui[all]==1.44.1->solara) (4.0.13)\n",
      "Requirement already satisfied: jupyterlab-widgets~=3.0.12 in /Library/Frameworks/Python.framework/Versions/3.12/lib/python3.12/site-packages (from ipywidgets>=7.7->solara-ui==1.44.1->solara-ui[all]==1.44.1->solara) (3.0.13)\n",
      "Requirement already satisfied: typing-extensions>=4.1.1 in /Library/Frameworks/Python.framework/Versions/3.12/lib/python3.12/site-packages (from reacton>=1.9->solara-ui==1.44.1->solara-ui[all]==1.44.1->solara) (4.12.2)\n",
      "Requirement already satisfied: appnope in /Library/Frameworks/Python.framework/Versions/3.12/lib/python3.12/site-packages (from ipykernel->solara-server==1.44.1->solara-server[dev,starlette]==1.44.1->solara) (0.1.4)\n",
      "Requirement already satisfied: debugpy>=1.6.5 in /Library/Frameworks/Python.framework/Versions/3.12/lib/python3.12/site-packages (from ipykernel->solara-server==1.44.1->solara-server[dev,starlette]==1.44.1->solara) (1.8.11)\n",
      "Requirement already satisfied: jupyter-core!=5.0.*,>=4.12 in /Library/Frameworks/Python.framework/Versions/3.12/lib/python3.12/site-packages (from ipykernel->solara-server==1.44.1->solara-server[dev,starlette]==1.44.1->solara) (5.7.2)\n",
      "Requirement already satisfied: matplotlib-inline>=0.1 in /Library/Frameworks/Python.framework/Versions/3.12/lib/python3.12/site-packages (from ipykernel->solara-server==1.44.1->solara-server[dev,starlette]==1.44.1->solara) (0.1.7)\n",
      "Requirement already satisfied: nest-asyncio in /Library/Frameworks/Python.framework/Versions/3.12/lib/python3.12/site-packages (from ipykernel->solara-server==1.44.1->solara-server[dev,starlette]==1.44.1->solara) (1.6.0)\n",
      "Requirement already satisfied: packaging in /Library/Frameworks/Python.framework/Versions/3.12/lib/python3.12/site-packages (from ipykernel->solara-server==1.44.1->solara-server[dev,starlette]==1.44.1->solara) (24.2)\n",
      "Requirement already satisfied: psutil in /Library/Frameworks/Python.framework/Versions/3.12/lib/python3.12/site-packages (from ipykernel->solara-server==1.44.1->solara-server[dev,starlette]==1.44.1->solara) (6.1.1)\n",
      "Requirement already satisfied: pyzmq>=24 in /Library/Frameworks/Python.framework/Versions/3.12/lib/python3.12/site-packages (from ipykernel->solara-server==1.44.1->solara-server[dev,starlette]==1.44.1->solara) (26.2.0)\n",
      "Requirement already satisfied: tornado>=6.1 in /Library/Frameworks/Python.framework/Versions/3.12/lib/python3.12/site-packages (from ipykernel->solara-server==1.44.1->solara-server[dev,starlette]==1.44.1->solara) (6.4.2)\n",
      "Requirement already satisfied: python-dateutil>=2.8.2 in /Library/Frameworks/Python.framework/Versions/3.12/lib/python3.12/site-packages (from jupyter-client->solara-server==1.44.1->solara-server[dev,starlette]==1.44.1->solara) (2.9.0.post0)\n",
      "Requirement already satisfied: MarkupSafe>=2.0 in /Library/Frameworks/Python.framework/Versions/3.12/lib/python3.12/site-packages (from jinja2->solara-server==1.44.1->solara-server[dev,starlette]==1.44.1->solara) (3.0.2)\n",
      "Requirement already satisfied: fastjsonschema>=2.15 in /Library/Frameworks/Python.framework/Versions/3.12/lib/python3.12/site-packages (from nbformat->solara-server==1.44.1->solara-server[dev,starlette]==1.44.1->solara) (2.21.1)\n",
      "Requirement already satisfied: jsonschema>=2.6 in /Library/Frameworks/Python.framework/Versions/3.12/lib/python3.12/site-packages (from nbformat->solara-server==1.44.1->solara-server[dev,starlette]==1.44.1->solara) (4.23.0)\n",
      "Requirement already satisfied: pyyaml in /Library/Frameworks/Python.framework/Versions/3.12/lib/python3.12/site-packages (from pymdown-extensions->solara-ui[all]==1.44.1->solara) (6.0.2)\n",
      "Requirement already satisfied: charset-normalizer<4,>=2 in /Library/Frameworks/Python.framework/Versions/3.12/lib/python3.12/site-packages (from requests->solara-ui==1.44.1->solara-ui[all]==1.44.1->solara) (3.4.1)\n",
      "Requirement already satisfied: idna<4,>=2.5 in /Library/Frameworks/Python.framework/Versions/3.12/lib/python3.12/site-packages (from requests->solara-ui==1.44.1->solara-ui[all]==1.44.1->solara) (3.10)\n",
      "Requirement already satisfied: urllib3<3,>=1.21.1 in /Library/Frameworks/Python.framework/Versions/3.12/lib/python3.12/site-packages (from requests->solara-ui==1.44.1->solara-ui[all]==1.44.1->solara) (2.3.0)\n",
      "Requirement already satisfied: certifi>=2017.4.17 in /Library/Frameworks/Python.framework/Versions/3.12/lib/python3.12/site-packages (from requests->solara-ui==1.44.1->solara-ui[all]==1.44.1->solara) (2024.12.14)\n",
      "Requirement already satisfied: rich>=10.7 in /Library/Frameworks/Python.framework/Versions/3.12/lib/python3.12/site-packages (from rich-click->solara-server==1.44.1->solara-server[dev,starlette]==1.44.1->solara) (13.9.4)\n",
      "Requirement already satisfied: anyio<5,>=3.6.2 in /Library/Frameworks/Python.framework/Versions/3.12/lib/python3.12/site-packages (from starlette->solara-server[dev,starlette]==1.44.1->solara) (4.8.0)\n",
      "Requirement already satisfied: h11>=0.8 in /Library/Frameworks/Python.framework/Versions/3.12/lib/python3.12/site-packages (from uvicorn->solara-server[dev,starlette]==1.44.1->solara) (0.14.0)\n",
      "Requirement already satisfied: sniffio>=1.1 in /Library/Frameworks/Python.framework/Versions/3.12/lib/python3.12/site-packages (from anyio<5,>=3.6.2->starlette->solara-server[dev,starlette]==1.44.1->solara) (1.3.1)\n",
      "Requirement already satisfied: decorator in /Library/Frameworks/Python.framework/Versions/3.12/lib/python3.12/site-packages (from ipython>=6.1.0->ipywidgets>=7.7->solara-ui==1.44.1->solara-ui[all]==1.44.1->solara) (5.1.1)\n",
      "Requirement already satisfied: jedi>=0.16 in /Library/Frameworks/Python.framework/Versions/3.12/lib/python3.12/site-packages (from ipython>=6.1.0->ipywidgets>=7.7->solara-ui==1.44.1->solara-ui[all]==1.44.1->solara) (0.19.2)\n",
      "Requirement already satisfied: pexpect>4.3 in /Library/Frameworks/Python.framework/Versions/3.12/lib/python3.12/site-packages (from ipython>=6.1.0->ipywidgets>=7.7->solara-ui==1.44.1->solara-ui[all]==1.44.1->solara) (4.9.0)\n",
      "Requirement already satisfied: prompt_toolkit<3.1.0,>=3.0.41 in /Library/Frameworks/Python.framework/Versions/3.12/lib/python3.12/site-packages (from ipython>=6.1.0->ipywidgets>=7.7->solara-ui==1.44.1->solara-ui[all]==1.44.1->solara) (3.0.48)\n",
      "Requirement already satisfied: stack_data in /Library/Frameworks/Python.framework/Versions/3.12/lib/python3.12/site-packages (from ipython>=6.1.0->ipywidgets>=7.7->solara-ui==1.44.1->solara-ui[all]==1.44.1->solara) (0.6.3)\n",
      "Requirement already satisfied: attrs>=22.2.0 in /Library/Frameworks/Python.framework/Versions/3.12/lib/python3.12/site-packages (from jsonschema>=2.6->nbformat->solara-server==1.44.1->solara-server[dev,starlette]==1.44.1->solara) (24.3.0)\n",
      "Requirement already satisfied: jsonschema-specifications>=2023.03.6 in /Library/Frameworks/Python.framework/Versions/3.12/lib/python3.12/site-packages (from jsonschema>=2.6->nbformat->solara-server==1.44.1->solara-server[dev,starlette]==1.44.1->solara) (2024.10.1)\n",
      "Requirement already satisfied: referencing>=0.28.4 in /Library/Frameworks/Python.framework/Versions/3.12/lib/python3.12/site-packages (from jsonschema>=2.6->nbformat->solara-server==1.44.1->solara-server[dev,starlette]==1.44.1->solara) (0.35.1)\n",
      "Requirement already satisfied: rpds-py>=0.7.1 in /Library/Frameworks/Python.framework/Versions/3.12/lib/python3.12/site-packages (from jsonschema>=2.6->nbformat->solara-server==1.44.1->solara-server[dev,starlette]==1.44.1->solara) (0.22.3)\n",
      "Requirement already satisfied: platformdirs>=2.5 in /Library/Frameworks/Python.framework/Versions/3.12/lib/python3.12/site-packages (from jupyter-core!=5.0.*,>=4.12->ipykernel->solara-server==1.44.1->solara-server[dev,starlette]==1.44.1->solara) (4.3.6)\n",
      "Requirement already satisfied: six>=1.5 in /Library/Frameworks/Python.framework/Versions/3.12/lib/python3.12/site-packages (from python-dateutil>=2.8.2->jupyter-client->solara-server==1.44.1->solara-server[dev,starlette]==1.44.1->solara) (1.17.0)\n",
      "Requirement already satisfied: markdown-it-py>=2.2.0 in /Library/Frameworks/Python.framework/Versions/3.12/lib/python3.12/site-packages (from rich>=10.7->rich-click->solara-server==1.44.1->solara-server[dev,starlette]==1.44.1->solara) (3.0.0)\n",
      "Requirement already satisfied: parso<0.9.0,>=0.8.4 in /Library/Frameworks/Python.framework/Versions/3.12/lib/python3.12/site-packages (from jedi>=0.16->ipython>=6.1.0->ipywidgets>=7.7->solara-ui==1.44.1->solara-ui[all]==1.44.1->solara) (0.8.4)\n",
      "Requirement already satisfied: mdurl~=0.1 in /Library/Frameworks/Python.framework/Versions/3.12/lib/python3.12/site-packages (from markdown-it-py>=2.2.0->rich>=10.7->rich-click->solara-server==1.44.1->solara-server[dev,starlette]==1.44.1->solara) (0.1.2)\n",
      "Requirement already satisfied: ptyprocess>=0.5 in /Library/Frameworks/Python.framework/Versions/3.12/lib/python3.12/site-packages (from pexpect>4.3->ipython>=6.1.0->ipywidgets>=7.7->solara-ui==1.44.1->solara-ui[all]==1.44.1->solara) (0.7.0)\n",
      "Requirement already satisfied: wcwidth in /Library/Frameworks/Python.framework/Versions/3.12/lib/python3.12/site-packages (from prompt_toolkit<3.1.0,>=3.0.41->ipython>=6.1.0->ipywidgets>=7.7->solara-ui==1.44.1->solara-ui[all]==1.44.1->solara) (0.2.13)\n",
      "Requirement already satisfied: executing>=1.2.0 in /Library/Frameworks/Python.framework/Versions/3.12/lib/python3.12/site-packages (from stack_data->ipython>=6.1.0->ipywidgets>=7.7->solara-ui==1.44.1->solara-ui[all]==1.44.1->solara) (2.1.0)\n",
      "Requirement already satisfied: asttokens>=2.1.0 in /Library/Frameworks/Python.framework/Versions/3.12/lib/python3.12/site-packages (from stack_data->ipython>=6.1.0->ipywidgets>=7.7->solara-ui==1.44.1->solara-ui[all]==1.44.1->solara) (3.0.0)\n",
      "Requirement already satisfied: pure-eval in /Library/Frameworks/Python.framework/Versions/3.12/lib/python3.12/site-packages (from stack_data->ipython>=6.1.0->ipywidgets>=7.7->solara-ui==1.44.1->solara-ui[all]==1.44.1->solara) (0.2.3)\n"
     ]
    }
   ],
   "source": [
    "!pip install solara"
   ]
  },
  {
   "cell_type": "code",
   "execution_count": 8,
   "id": "6Hy8KCDE-8ym",
   "metadata": {
    "executionInfo": {
     "elapsed": 3433,
     "status": "ok",
     "timestamp": 1742850587274,
     "user": {
      "displayName": "Wassila Ouerdane",
      "userId": "06311256887956564892"
     },
     "user_tz": -60
    },
    "id": "6Hy8KCDE-8ym"
   },
   "outputs": [],
   "source": [
    "import solara\n",
    "from matplotlib.figure import Figure\n",
    "\n",
    "from mesa.visualization.utils import update_counter\n",
    "\n",
    "from mesa.visualization import SolaraViz, make_plot_component, make_space_component\n",
    "# Import the local MoneyModel.py\n",
    "from MoneyModel2 import MoneyModel"
   ]
  },
  {
   "cell_type": "code",
   "execution_count": 9,
   "id": "014ccd30",
   "metadata": {
    "executionInfo": {
     "elapsed": 4,
     "status": "ok",
     "timestamp": 1742850760067,
     "user": {
      "displayName": "Wassila Ouerdane",
      "userId": "06311256887956564892"
     },
     "user_tz": -60
    },
    "id": "014ccd30"
   },
   "outputs": [],
   "source": [
    "def agent_portrayal(agent):\n",
    "    size = 10\n",
    "    color = \"tab:red\"\n",
    "    if agent.wealth > 0:\n",
    "        size = 50\n",
    "        color = \"tab:blue\"\n",
    "    return {\"size\": size, \"color\": color}"
   ]
  },
  {
   "cell_type": "code",
   "execution_count": 10,
   "id": "85779af1",
   "metadata": {
    "executionInfo": {
     "elapsed": 3,
     "status": "ok",
     "timestamp": 1742850762829,
     "user": {
      "displayName": "Wassila Ouerdane",
      "userId": "06311256887956564892"
     },
     "user_tz": -60
    },
    "id": "85779af1"
   },
   "outputs": [],
   "source": [
    "model_params = {\n",
    "    \"n\": {\n",
    "        \"type\": \"SliderInt\",\n",
    "        \"value\": 50,\n",
    "        \"label\": \"Number of agents:\",\n",
    "        \"min\": 10,\n",
    "        \"max\": 100,\n",
    "        \"step\": 1,\n",
    "    },\n",
    "    \"width\": 10,\n",
    "    \"height\": 10,\n",
    "}"
   ]
  },
  {
   "cell_type": "code",
   "execution_count": 11,
   "id": "qLG_-hPz_vjp",
   "metadata": {
    "executionInfo": {
     "elapsed": 21,
     "status": "ok",
     "timestamp": 1742850766448,
     "user": {
      "displayName": "Wassila Ouerdane",
      "userId": "06311256887956564892"
     },
     "user_tz": -60
    },
    "id": "qLG_-hPz_vjp"
   },
   "outputs": [],
   "source": [
    "@solara.component\n",
    "def Histogram(model):\n",
    "    update_counter.get() # This is required to update the counter\n",
    "    # Note: you must initialize a figure using this method instead of\n",
    "    # plt.figure(), for thread safety purpose\n",
    "    fig = Figure()\n",
    "    ax = fig.subplots()\n",
    "    wealth_vals = [agent.wealth for agent in model.agents]\n",
    "    # Note: you have to use Matplotlib's OOP API instead of plt.hist\n",
    "    # because plt.hist is not thread-safe.\n",
    "    ax.hist(wealth_vals, bins=10)\n",
    "    solara.FigureMatplotlib(fig)"
   ]
  },
  {
   "cell_type": "code",
   "execution_count": 12,
   "id": "8ZKap-pt_4fU",
   "metadata": {
    "executionInfo": {
     "elapsed": 4,
     "status": "ok",
     "timestamp": 1742850770094,
     "user": {
      "displayName": "Wassila Ouerdane",
      "userId": "06311256887956564892"
     },
     "user_tz": -60
    },
    "id": "8ZKap-pt_4fU"
   },
   "outputs": [],
   "source": [
    "# Create initial model instance\n",
    "money_model = MoneyModel(n=50,  width=10, height=10)\n",
    "\n",
    "SpaceGraph = make_space_component(agent_portrayal)\n",
    "GiniPlot = make_plot_component(\"Gini\")"
   ]
  },
  {
   "cell_type": "code",
   "execution_count": 13,
   "id": "xK69jT0m__pD",
   "metadata": {
    "colab": {
     "base_uri": "https://localhost:8080/",
     "height": 357,
     "referenced_widgets": [
      "5f43384c135b4ac9900787f8123af47e",
      "f2cb0fa82581435788da5b4753087658",
      "85b30f4a78584b58b791aba37c6add4a",
      "a08c5edc15e94245a11e5adb473fe556",
      "903f1928baf84f28877048e9c735e6a9",
      "06e9854d4c53460bbf154e0c1962ae48",
      "2217baa6a4384c15982829ce4a8fc9b6",
      "a169bf01783a4b99a897c5f963c22995",
      "ee7bbb081aa8417f8ed41687930c8b27",
      "063111d473f940bb9da2dc2bbfdab562",
      "82372203757a4ba58c81a031c42ad5f2",
      "2e319e1ee5ba416e8abe94254005a1d2",
      "0db158289cda443e89068dc01f716dbd",
      "bfaa5e0b068c449cb606e4c81db0eb51",
      "f1e3673f5cbd4fe287f650fd5c01c0c0",
      "e51581d94e4c4c79b7eb364f2b68e5d0",
      "a173e530180d4adba8d5756814759eba",
      "6772503ef73d4434a341621c58fe3d83",
      "a4320d801b4449f3a3d18c83ccdd3fbe",
      "130714aede6048dcbe98c06e34ca1dd8",
      "f8c2e3a909734ede8fb779913c98beee",
      "c6da21f72107462987f713b6e09c8460",
      "f782444962674d6cb2c1b0fcd2a79c60",
      "a1369a6e2f334e53aa3d582d2daec163",
      "bebe9878d107457a9db20706320b9150",
      "be8e0bbf392f4824862684a935500be1",
      "1cf66aeffa024fc09cf9792c4b86d64e",
      "acf7de6d6e1d4680bbf249c0a6f0b667",
      "b18af991030f4364bead84f591d7c29e",
      "0a7f975f5ea345eebc7018bec63240c1",
      "94de61ec394943a9a1fe48ff042582f6",
      "21cc6f9bce68463f9c1064f3c43eee26",
      "c89b5ce7cb2345049df6330dda54c329",
      "8a3bcb6eb28041a79107f2082504dd0c",
      "ee5a20ea3efa456c8b87ade21288d649",
      "5b4eb4c1079f44ea97fb8c855f9511c4",
      "8236094453a747549dbd3d54bfed916c",
      "b6e3a846b71045029116c2d55d7af40a"
     ]
    },
    "executionInfo": {
     "elapsed": 1035,
     "status": "ok",
     "timestamp": 1742850782304,
     "user": {
      "displayName": "Wassila Ouerdane",
      "userId": "06311256887956564892"
     },
     "user_tz": -60
    },
    "id": "xK69jT0m__pD",
    "outputId": "55de6635-caaa-4a05-b872-643c76008150"
   },
   "outputs": [
    {
     "data": {
      "application/vnd.jupyter.widget-view+json": {
       "model_id": "e46d35fbaf69417f8d9596f01a336335",
       "version_major": 2,
       "version_minor": 0
      },
      "text/html": [
       "Cannot show widget. You probably want to rerun the code cell above (<i>Click in the code cell, and press Shift+Enter <kbd>⇧</kbd>+<kbd>↩</kbd></i>)."
      ],
      "text/plain": [
       "Cannot show ipywidgets in text"
      ]
     },
     "metadata": {},
     "output_type": "display_data"
    }
   ],
   "source": [
    "page = SolaraViz(\n",
    "    money_model,\n",
    "    components=[SpaceGraph, GiniPlot, Histogram],\n",
    "    model_params=model_params,\n",
    "    name=\"Money Model\",\n",
    ")\n",
    "# This is required to render the visualization in the Jupyter notebook\n",
    "page"
   ]
  },
  {
   "cell_type": "markdown",
   "id": "daad5ca3",
   "metadata": {
    "id": "daad5ca3"
   },
   "source": [
    "<div class =\"alert alert-block alert-success\">\n",
    "    <b>Testez votre code et l'interface graphique</b>\n",
    "</div>"
   ]
  },
  {
   "cell_type": "code",
   "execution_count": null,
   "id": "8f491247",
   "metadata": {
    "id": "8f491247"
   },
   "outputs": [],
   "source": []
  }
 ],
 "metadata": {
  "colab": {
   "provenance": []
  },
  "kernelspec": {
   "display_name": "Python 3 (ipykernel)",
   "language": "python",
   "name": "python3"
  },
  "language_info": {
   "codemirror_mode": {
    "name": "ipython",
    "version": 3
   },
   "file_extension": ".py",
   "mimetype": "text/x-python",
   "name": "python",
   "nbconvert_exporter": "python",
   "pygments_lexer": "ipython3",
   "version": "3.12.8"
  },
  "widgets": {
   "application/vnd.jupyter.widget-state+json": {
    "063111d473f940bb9da2dc2bbfdab562": {
     "model_module": "jupyter-vuetify",
     "model_module_version": "^1.8.5",
     "model_name": "SheetModel",
     "state": {
      "_dom_classes": [],
      "_events": [],
      "_jupyter_vue": "IPY_MODEL_fc34a3ab4e6b48d7b1a4e8d32363a611",
      "_metadata": null,
      "_model_module": "jupyter-vuetify",
      "_model_module_version": "^1.8.5",
      "_model_name": "SheetModel",
      "_view_count": null,
      "_view_module": "jupyter-vuetify",
      "_view_module_version": "^1.8.5",
      "_view_name": "VuetifyView",
      "attributes": {},
      "children": [
       "IPY_MODEL_a169bf01783a4b99a897c5f963c22995",
       "IPY_MODEL_ee7bbb081aa8417f8ed41687930c8b27"
      ],
      "class_": "d-flex ma-0",
      "color": null,
      "dark": null,
      "elevation": 0,
      "height": null,
      "layout": null,
      "light": null,
      "max_height": null,
      "max_width": null,
      "min_height": null,
      "min_width": null,
      "slot": null,
      "style_": "flex-direction: column; align-items: stretch; row-gap: 12px;;",
      "tag": null,
      "tile": null,
      "v_model": "!!disabled!!",
      "v_on": null,
      "v_slots": [],
      "width": null
     }
    },
    "06e9854d4c53460bbf154e0c1962ae48": {
     "model_module": "jupyter-vuetify",
     "model_module_version": "^1.11.1",
     "model_name": "HtmlModel",
     "state": {
      "_dom_classes": [],
      "_events": [],
      "_jupyter_vue": "IPY_MODEL_fc34a3ab4e6b48d7b1a4e8d32363a611",
      "_model_module": "jupyter-vuetify",
      "_model_module_version": "^1.11.1",
      "_model_name": "HtmlModel",
      "_view_count": null,
      "_view_module": "jupyter-vuetify",
      "_view_module_version": "^1.11.1",
      "_view_name": "VuetifyView",
      "attributes": {},
      "children": [],
      "class_": "",
      "layout": null,
      "slot": null,
      "style_": "display; none",
      "tag": "div",
      "v_model": "!!disabled!!",
      "v_on": null,
      "v_slots": []
     }
    },
    "0a7f975f5ea345eebc7018bec63240c1": {
     "model_module": "jupyter-vuetify",
     "model_module_version": "^1.11.1",
     "model_name": "HtmlModel",
     "state": {
      "_dom_classes": [],
      "_events": [],
      "_jupyter_vue": "IPY_MODEL_fc34a3ab4e6b48d7b1a4e8d32363a611",
      "_model_module": "jupyter-vuetify",
      "_model_module_version": "^1.11.1",
      "_model_name": "HtmlModel",
      "_view_count": null,
      "_view_module": "jupyter-vuetify",
      "_view_module_version": "^1.11.1",
      "_view_name": "VuetifyView",
      "attributes": {},
      "children": [],
      "class_": "",
      "layout": null,
      "slot": null,
      "style_": "display; none",
      "tag": "div",
      "v_model": "!!disabled!!",
      "v_on": null,
      "v_slots": []
     }
    },
    "0db158289cda443e89068dc01f716dbd": {
     "model_module": "jupyter-vuetify",
     "model_module_version": "^1.11.1",
     "model_name": "HtmlModel",
     "state": {
      "_dom_classes": [],
      "_events": [],
      "_jupyter_vue": "IPY_MODEL_fc34a3ab4e6b48d7b1a4e8d32363a611",
      "_model_module": "jupyter-vuetify",
      "_model_module_version": "^1.11.1",
      "_model_name": "HtmlModel",
      "_view_count": null,
      "_view_module": "jupyter-vuetify",
      "_view_module_version": "^1.11.1",
      "_view_name": "VuetifyView",
      "attributes": {},
      "children": [
       "IPY_MODEL_2e319e1ee5ba416e8abe94254005a1d2"
      ],
      "class_": null,
      "layout": null,
      "slot": null,
      "style_": null,
      "tag": "div",
      "v_model": "!!disabled!!",
      "v_on": null,
      "v_slots": []
     }
    },
    "130714aede6048dcbe98c06e34ca1dd8": {
     "model_module": "jupyter-vuetify",
     "model_module_version": "^1.8.5",
     "model_name": "CardTitleModel",
     "state": {
      "_dom_classes": [],
      "_events": [],
      "_jupyter_vue": "IPY_MODEL_fc34a3ab4e6b48d7b1a4e8d32363a611",
      "_metadata": null,
      "_model_module": "jupyter-vuetify",
      "_model_module_version": "^1.8.5",
      "_model_name": "CardTitleModel",
      "_view_count": null,
      "_view_module": "jupyter-vuetify",
      "_view_module_version": "^1.8.5",
      "_view_name": "VuetifyView",
      "attributes": {},
      "children": [
       "Controls"
      ],
      "class_": null,
      "layout": null,
      "slot": null,
      "style_": null,
      "v_model": "!!disabled!!",
      "v_on": null,
      "v_slots": []
     }
    },
    "1cf66aeffa024fc09cf9792c4b86d64e": {
     "model_module": "jupyter-vuetify",
     "model_module_version": "^1.8.5",
     "model_name": "CardTextModel",
     "state": {
      "_dom_classes": [],
      "_events": [],
      "_jupyter_vue": "IPY_MODEL_fc34a3ab4e6b48d7b1a4e8d32363a611",
      "_metadata": null,
      "_model_module": "jupyter-vuetify",
      "_model_module_version": "^1.8.5",
      "_model_name": "CardTextModel",
      "_view_count": null,
      "_view_module": "jupyter-vuetify",
      "_view_module_version": "^1.8.5",
      "_view_name": "VuetifyView",
      "attributes": {},
      "children": [
       "IPY_MODEL_bebe9878d107457a9db20706320b9150"
      ],
      "class_": null,
      "layout": null,
      "slot": null,
      "style_": null,
      "v_model": "!!disabled!!",
      "v_on": null,
      "v_slots": []
     }
    },
    "21cc6f9bce68463f9c1064f3c43eee26": {
     "model_module": "jupyter-vuetify",
     "model_module_version": "^1.11.1",
     "model_name": "VuetifyTemplateModel",
     "state": {
      "_component_instances": [],
      "_dom_classes": [],
      "_jupyter_vue": "IPY_MODEL_fc34a3ab4e6b48d7b1a4e8d32363a611",
      "_model_module": "jupyter-vuetify",
      "_model_module_version": "^1.11.1",
      "_model_name": "VuetifyTemplateModel",
      "_view_count": null,
      "_view_module": "jupyter-vuetify",
      "_view_module_version": "^1.11.1",
      "_view_name": "VuetifyView",
      "cdn": "https://cdn.jsdelivr.net/npm/",
      "components": null,
      "css": null,
      "data": null,
      "draggable": true,
      "events": [],
      "grid_layout": [
       {
        "h": 10,
        "i": 0,
        "moved": false,
        "w": 6,
        "x": 0,
        "y": 0
       },
       {
        "h": 10,
        "i": 1,
        "moved": false,
        "w": 6,
        "x": 6,
        "y": 0
       },
       {
        "h": 10,
        "i": 2,
        "moved": false,
        "w": 6,
        "x": 0,
        "y": 32
       }
      ],
      "gridlayout_loaded": false,
      "items": [
       "IPY_MODEL_09ff7c05f9344ac88915580cbf3998e8",
       "IPY_MODEL_55df69203063457a85b5e197695a13d9",
       "IPY_MODEL_cd8e92fcb8af495ea3a8eb3dd6652d2a"
      ],
      "layout": "IPY_MODEL_b18af991030f4364bead84f591d7c29e",
      "methods": null,
      "resizable": true,
      "template": "IPY_MODEL_a08c5edc15e94245a11e5adb473fe556"
     }
    },
    "2217baa6a4384c15982829ce4a8fc9b6": {
     "model_module": "jupyter-vuetify",
     "model_module_version": "^1.11.1",
     "model_name": "VuetifyTemplateModel",
     "state": {
      "_component_instances": [],
      "_dom_classes": [],
      "_jupyter_vue": "IPY_MODEL_fc34a3ab4e6b48d7b1a4e8d32363a611",
      "_model_module": "jupyter-vuetify",
      "_model_module_version": "^1.11.1",
      "_model_name": "VuetifyTemplateModel",
      "_view_count": null,
      "_view_module": "jupyter-vuetify",
      "_view_module_version": "^1.11.1",
      "_view_name": "VuetifyView",
      "cdn": "https://cdn.jsdelivr.net/npm/",
      "components": null,
      "css": null,
      "data": null,
      "draggable": true,
      "events": [],
      "grid_layout": [
       {
        "h": 10,
        "i": 0,
        "moved": false,
        "w": 6,
        "x": 0,
        "y": 0
       },
       {
        "h": 10,
        "i": 1,
        "moved": false,
        "w": 6,
        "x": 6,
        "y": 0
       },
       {
        "h": 10,
        "i": 2,
        "moved": false,
        "w": 6,
        "x": 0,
        "y": 32
       }
      ],
      "gridlayout_loaded": false,
      "items": [
       "IPY_MODEL_affec390bb4b435ea14858b6574632cd",
       "IPY_MODEL_4c8cf8effc2646e19ee36bf267f8bf28",
       "IPY_MODEL_c849131181a94f988ab902c1b9c8afc5"
      ],
      "layout": "IPY_MODEL_85b30f4a78584b58b791aba37c6add4a",
      "methods": null,
      "resizable": true,
      "template": "IPY_MODEL_a08c5edc15e94245a11e5adb473fe556"
     }
    },
    "2e319e1ee5ba416e8abe94254005a1d2": {
     "model_module": "jupyter-vuetify",
     "model_module_version": "^1.8.5",
     "model_name": "RowModel",
     "state": {
      "_dom_classes": [],
      "_events": [],
      "_jupyter_vue": "IPY_MODEL_fc34a3ab4e6b48d7b1a4e8d32363a611",
      "_metadata": null,
      "_model_module": "jupyter-vuetify",
      "_model_module_version": "^1.8.5",
      "_model_name": "RowModel",
      "_view_count": null,
      "_view_module": "jupyter-vuetify",
      "_view_module_version": "^1.8.5",
      "_view_name": "VuetifyView",
      "align": null,
      "align_content": null,
      "align_content_lg": null,
      "align_content_md": null,
      "align_content_sm": null,
      "align_content_xl": null,
      "align_lg": null,
      "align_md": null,
      "align_sm": null,
      "align_xl": null,
      "attributes": {},
      "children": [
       "IPY_MODEL_82372203757a4ba58c81a031c42ad5f2"
      ],
      "class_": "solara-content-main",
      "dense": null,
      "justify": null,
      "justify_lg": null,
      "justify_md": null,
      "justify_sm": null,
      "justify_xl": null,
      "layout": null,
      "no_gutters": false,
      "slot": null,
      "style_": null,
      "tag": null,
      "v_model": "!!disabled!!",
      "v_on": null,
      "v_slots": []
     }
    },
    "5b4eb4c1079f44ea97fb8c855f9511c4": {
     "model_module": "@jupyter-widgets/controls",
     "model_module_version": "1.5.0",
     "model_name": "DescriptionStyleModel",
     "state": {
      "_model_module": "@jupyter-widgets/controls",
      "_model_module_version": "1.5.0",
      "_model_name": "DescriptionStyleModel",
      "_view_count": null,
      "_view_module": "@jupyter-widgets/base",
      "_view_module_version": "1.2.0",
      "_view_name": "StyleView",
      "description_width": ""
     }
    },
    "5f43384c135b4ac9900787f8123af47e": {
     "model_module": "jupyter-vue",
     "model_module_version": "^1.11.2",
     "model_name": "HtmlModel",
     "state": {
      "_dom_classes": [],
      "_events": [],
      "_jupyter_vue": "IPY_MODEL_fc34a3ab4e6b48d7b1a4e8d32363a611",
      "_model_module": "jupyter-vue",
      "_model_module_version": "^1.11.2",
      "_model_name": "HtmlModel",
      "_view_count": null,
      "_view_module": "jupyter-vue",
      "_view_module_version": "^1.11.2",
      "_view_name": "VueView",
      "attributes": {},
      "children": [],
      "class_": null,
      "layout": null,
      "slot": null,
      "style_": "display: none",
      "tag": "span",
      "v_model": "!!disabled!!",
      "v_on": null,
      "v_slots": []
     }
    },
    "6772503ef73d4434a341621c58fe3d83": {
     "model_module": "jupyter-vuetify",
     "model_module_version": "^1.8.5",
     "model_name": "SliderModel",
     "state": {
      "_dom_classes": [],
      "_events": [],
      "_jupyter_vue": "IPY_MODEL_fc34a3ab4e6b48d7b1a4e8d32363a611",
      "_metadata": null,
      "_model_module": "jupyter-vuetify",
      "_model_module_version": "^1.8.5",
      "_model_name": "SliderModel",
      "_view_count": null,
      "_view_module": "jupyter-vuetify",
      "_view_module_version": "^1.8.5",
      "_view_name": "VuetifyView",
      "append_icon": null,
      "attributes": {},
      "background_color": null,
      "children": [],
      "class_": null,
      "color": null,
      "dark": null,
      "dense": false,
      "disabled": false,
      "error": null,
      "error_count": null,
      "error_messages": null,
      "height": null,
      "hide_details": true,
      "hint": null,
      "id": null,
      "inverse_label": null,
      "label": "Render Interval (steps)",
      "layout": null,
      "light": null,
      "loader_height": null,
      "loading": null,
      "max": 100,
      "messages": null,
      "min": 1,
      "persistent_hint": null,
      "prepend_icon": null,
      "readonly": null,
      "rules": null,
      "slot": null,
      "step": 2,
      "style_": null,
      "success": null,
      "success_messages": null,
      "thumb_color": null,
      "thumb_label": true,
      "thumb_size": null,
      "tick_labels": null,
      "tick_size": null,
      "ticks": null,
      "track_color": null,
      "track_fill_color": null,
      "v_model": 1,
      "v_on": null,
      "v_slots": [],
      "validate_on_blur": null,
      "value": null,
      "vertical": null
     }
    },
    "8236094453a747549dbd3d54bfed916c": {
     "model_module": "@jupyter-widgets/controls",
     "model_module_version": "1.5.0",
     "model_name": "HTMLModel",
     "state": {
      "_dom_classes": [],
      "_model_module": "@jupyter-widgets/controls",
      "_model_module_version": "1.5.0",
      "_model_name": "HTMLModel",
      "_view_count": null,
      "_view_module": "@jupyter-widgets/controls",
      "_view_module_version": "1.5.0",
      "_view_name": "HTMLView",
      "description": "",
      "description_tooltip": null,
      "layout": "IPY_MODEL_ee5a20ea3efa456c8b87ade21288d649",
      "placeholder": "​",
      "style": "IPY_MODEL_5b4eb4c1079f44ea97fb8c855f9511c4",
      "value": "<pre>Traceback (most recent call last):\n  File &quot;/usr/local/lib/python3.11/dist-packages/reacton/core.py&quot;, line 1900, in _reconsolidate\n    effect()\n  File &quot;/usr/local/lib/python3.11/dist-packages/reacton/core.py&quot;, line 1131, in __call__\n    self._cleanup = self.callable()\n                    ^^^^^^^^^^^^^^^\n  File &quot;/usr/local/lib/python3.11/dist-packages/mesa/visualization/solara_viz.py&quot;, line 427, in &lt;lambda&gt;\n    lambda: _check_model_params(model.value.__class__.__init__, fixed_params),\n            ^^^^^^^^^^^^^^^^^^^^^^^^^^^^^^^^^^^^^^^^^^^^^^^^^^^^^^^^^^^^^^^^^\n  File &quot;/usr/local/lib/python3.11/dist-packages/mesa/visualization/solara_viz.py&quot;, line 480, in _check_model_params\n    raise ValueError(f&quot;Missing required model parameter: {name}&quot;)\nValueError: Missing required model parameter: N\n</pre>"
     }
    },
    "82372203757a4ba58c81a031c42ad5f2": {
     "model_module": "jupyter-vuetify",
     "model_module_version": "^1.8.5",
     "model_name": "ColModel",
     "state": {
      "_dom_classes": [],
      "_events": [],
      "_jupyter_vue": "IPY_MODEL_fc34a3ab4e6b48d7b1a4e8d32363a611",
      "_metadata": null,
      "_model_module": "jupyter-vuetify",
      "_model_module_version": "^1.8.5",
      "_model_name": "ColModel",
      "_view_count": null,
      "_view_module": "jupyter-vuetify",
      "_view_module_version": "^1.8.5",
      "_view_name": "VuetifyView",
      "align_self": null,
      "attributes": {},
      "children": [
       "IPY_MODEL_063111d473f940bb9da2dc2bbfdab562"
      ],
      "class_": null,
      "cols": 12,
      "layout": null,
      "lg": null,
      "md": null,
      "offset": null,
      "offset_lg": null,
      "offset_md": null,
      "offset_sm": null,
      "offset_xl": null,
      "order": null,
      "order_lg": null,
      "order_md": null,
      "order_sm": null,
      "order_xl": null,
      "slot": null,
      "sm": null,
      "style_": null,
      "tag": null,
      "v_model": "!!disabled!!",
      "v_on": null,
      "v_slots": [],
      "xl": null
     }
    },
    "85b30f4a78584b58b791aba37c6add4a": {
     "model_module": "@jupyter-widgets/base",
     "model_module_version": "1.2.0",
     "model_name": "LayoutModel",
     "state": {
      "_model_module": "@jupyter-widgets/base",
      "_model_module_version": "1.2.0",
      "_model_name": "LayoutModel",
      "_view_count": null,
      "_view_module": "@jupyter-widgets/base",
      "_view_module_version": "1.2.0",
      "_view_name": "LayoutView",
      "align_content": null,
      "align_items": null,
      "align_self": null,
      "border": null,
      "bottom": null,
      "display": null,
      "flex": null,
      "flex_flow": null,
      "grid_area": null,
      "grid_auto_columns": null,
      "grid_auto_flow": null,
      "grid_auto_rows": null,
      "grid_column": null,
      "grid_gap": null,
      "grid_row": null,
      "grid_template_areas": null,
      "grid_template_columns": null,
      "grid_template_rows": null,
      "height": null,
      "justify_content": null,
      "justify_items": null,
      "left": null,
      "margin": null,
      "max_height": null,
      "max_width": null,
      "min_height": null,
      "min_width": null,
      "object_fit": null,
      "object_position": null,
      "order": null,
      "overflow": null,
      "overflow_x": null,
      "overflow_y": null,
      "padding": null,
      "right": null,
      "top": null,
      "visibility": null,
      "width": null
     }
    },
    "8a3bcb6eb28041a79107f2082504dd0c": {
     "model_module": "jupyter-vuetify",
     "model_module_version": "^1.11.1",
     "model_name": "HtmlModel",
     "state": {
      "_dom_classes": [],
      "_events": [],
      "_jupyter_vue": "IPY_MODEL_fc34a3ab4e6b48d7b1a4e8d32363a611",
      "_model_module": "jupyter-vuetify",
      "_model_module_version": "^1.11.1",
      "_model_name": "HtmlModel",
      "_view_count": null,
      "_view_module": "jupyter-vuetify",
      "_view_module_version": "^1.11.1",
      "_view_name": "VuetifyView",
      "attributes": {
       "height": "0px",
       "src": "https://solara.dev/static/public/success.html?check=widget&version=1.44.1",
       "width": "0px"
      },
      "children": [],
      "class_": null,
      "layout": null,
      "slot": null,
      "style_": "display: none;",
      "tag": "iframe",
      "v_model": "!!disabled!!",
      "v_on": null,
      "v_slots": []
     }
    },
    "903f1928baf84f28877048e9c735e6a9": {
     "model_module": "jupyter-vuetify",
     "model_module_version": "^1.11.1",
     "model_name": "HtmlModel",
     "state": {
      "_dom_classes": [],
      "_events": [],
      "_jupyter_vue": "IPY_MODEL_fc34a3ab4e6b48d7b1a4e8d32363a611",
      "_model_module": "jupyter-vuetify",
      "_model_module_version": "^1.11.1",
      "_model_name": "HtmlModel",
      "_view_count": null,
      "_view_module": "jupyter-vuetify",
      "_view_module_version": "^1.11.1",
      "_view_name": "VuetifyView",
      "attributes": {},
      "children": [],
      "class_": "",
      "layout": null,
      "slot": null,
      "style_": "display; none",
      "tag": "div",
      "v_model": "!!disabled!!",
      "v_on": null,
      "v_slots": []
     }
    },
    "94de61ec394943a9a1fe48ff042582f6": {
     "model_module": "jupyter-vuetify",
     "model_module_version": "^1.11.1",
     "model_name": "HtmlModel",
     "state": {
      "_dom_classes": [],
      "_events": [],
      "_jupyter_vue": "IPY_MODEL_fc34a3ab4e6b48d7b1a4e8d32363a611",
      "_model_module": "jupyter-vuetify",
      "_model_module_version": "^1.11.1",
      "_model_name": "HtmlModel",
      "_view_count": null,
      "_view_module": "jupyter-vuetify",
      "_view_module_version": "^1.11.1",
      "_view_name": "VuetifyView",
      "attributes": {},
      "children": [],
      "class_": "",
      "layout": null,
      "slot": null,
      "style_": "display; none",
      "tag": "div",
      "v_model": "!!disabled!!",
      "v_on": null,
      "v_slots": []
     }
    },
    "a08c5edc15e94245a11e5adb473fe556": {
     "model_module": "jupyter-vue",
     "model_module_version": "^1.11.2",
     "model_name": "TemplateModel",
     "state": {
      "_model_module": "jupyter-vue",
      "_model_module_version": "^1.11.2",
      "_model_name": "TemplateModel",
      "_view_count": null,
      "_view_module": null,
      "_view_module_version": "",
      "_view_name": null,
      "template": "<template>\n  <div>\n    <div v-if=\"gridlayout_loaded\" style=\"padding: 0px; width: 100%;\">\n       <grid-layout\n            :layout.sync=\"grid_layout\"\n            :col-num=\"12\"\n            :row-height=\"30\"\n            :is-draggable=\"draggable\"\n            :is-resizable=\"resizable\"\n            :is-mirrored=\"false\"\n            :vertical-compact=\"true\"\n            :margin=\"[10, 10]\"\n            :use-css-transforms=\"true\"\n    >\n\n        <grid-item v-for=\"item in grid_layout\"\n                   :x=\"item.x\"\n                   :y=\"item.y\"\n                   :w=\"item.w\"\n                   :h=\"item.h\"\n                   :i=\"item.i\"\n                   :key=\"item.i\"\n                   @resized=\"resizedEvent\">\n            <div v-if=\"!items[item.i]\">\n              placeholder: {{item.i}}\n            </div>\n            <div v-if=\"items[item.i]\">\n              <jupyter-widget :widget=\"items[item.i]\" :key=\"'child_' + item.i\"></jupyter-widget>\n            </div>\n        </grid-item>\n    </grid-layout>\n\n    </div>\n  </div>\n</template>\n\n<script>\nmodule.exports = {\n    async created() {\n      this.gridlayout_loaded = false\n\n      const {GridLayout, GridItem} = (await this.import([`${this.getCdn()}/@widgetti/vue-grid-layout@2.3.13-alpha.2/dist/vue-grid-layout.umd.js`]))[0]\n      this.$options.components['grid-item'] = GridItem;\n      this.$options.components['grid-layout'] = GridLayout;\n      this.gridlayout_loaded = true;\n    },\n    methods: {\n        resizedEvent(i, newH, newW, newHPx, newWPx) {\n          // this will cause bqplot to layout itself\n          window.dispatchEvent(new Event('resize'));\n        },\n        import(deps) {\n          return this.loadRequire().then(\n            () => {\n              if(window.jupyterVue) {\n                // in jupyterlab, we take Vue from ipyvue/jupyterVue\n                define(\"vue\", [], () => window.jupyterVue.Vue);\n              } else {\n                define(\"vue\", ['jupyter-vue'], jupyterVue => jupyterVue.Vue);\n              }\n              return new Promise((resolve, reject) => {\n                requirejs(deps, (...modules) => resolve(modules));\n              })\n            }\n          );\n        },\n        loadRequire() {\n          /* Needed in lab */\n          if (window.requirejs) {\n              console.log('require found');\n              return Promise.resolve()\n          }\n          return new Promise((resolve, reject) => {\n            const script = document.createElement('script');\n            script.src = `${this.getCdn()}/requirejs@2.3.6/require.js`;\n            script.onload = resolve;\n            script.onerror = reject;\n            document.head.appendChild(script);\n          });\n        },\n        getJupyterBaseUrl() {\n          if (document.getElementsByTagName(\"base\").length) {\n            return \"./\";\n          }\n          const labConfigData = document.getElementById('jupyter-config-data');\n          if(labConfigData) {\n            /* lab and Voila */\n            return JSON.parse(labConfigData.textContent).baseUrl;\n          }\n          let base = document.body.dataset.baseUrl || document.baseURI;\n          if(!base.endsWith('/')) {\n            base += '/';\n          }\n          return base\n        },\n        getCdn() {\n          return this.cdn || (window.solara ? window.solara.cdn : `${this.getJupyterBaseUrl()}_solara/cdn`);\n        },\n    }\n}\n</script>\n\n<style id=\"grid_layout\">\n.vue-grid-item > div {\n  height: 100%;\n}\n</style>\n"
     }
    },
    "a1369a6e2f334e53aa3d582d2daec163": {
     "model_module": "jupyter-vuetify",
     "model_module_version": "^1.8.5",
     "model_name": "CardTextModel",
     "state": {
      "_dom_classes": [],
      "_events": [],
      "_jupyter_vue": "IPY_MODEL_fc34a3ab4e6b48d7b1a4e8d32363a611",
      "_metadata": null,
      "_model_module": "jupyter-vuetify",
      "_model_module_version": "^1.8.5",
      "_model_name": "CardTextModel",
      "_view_count": null,
      "_view_module": "jupyter-vuetify",
      "_view_module_version": "^1.8.5",
      "_view_name": "VuetifyView",
      "attributes": {},
      "children": [
       "IPY_MODEL_c6da21f72107462987f713b6e09c8460"
      ],
      "class_": null,
      "layout": null,
      "slot": null,
      "style_": null,
      "v_model": "!!disabled!!",
      "v_on": null,
      "v_slots": []
     }
    },
    "a169bf01783a4b99a897c5f963c22995": {
     "model_module": "jupyter-vuetify",
     "model_module_version": "^1.8.5",
     "model_name": "SheetModel",
     "state": {
      "_dom_classes": [],
      "_events": [],
      "_jupyter_vue": "IPY_MODEL_fc34a3ab4e6b48d7b1a4e8d32363a611",
      "_metadata": null,
      "_model_module": "jupyter-vuetify",
      "_model_module_version": "^1.8.5",
      "_model_name": "SheetModel",
      "_view_count": null,
      "_view_module": "jupyter-vuetify",
      "_view_module_version": "^1.8.5",
      "_view_name": "VuetifyView",
      "attributes": {},
      "children": [
       "IPY_MODEL_903f1928baf84f28877048e9c735e6a9",
       "IPY_MODEL_06e9854d4c53460bbf154e0c1962ae48",
       "IPY_MODEL_2217baa6a4384c15982829ce4a8fc9b6"
      ],
      "class_": "d-flex ma-0",
      "color": null,
      "dark": null,
      "elevation": 0,
      "height": null,
      "layout": null,
      "light": null,
      "max_height": null,
      "max_width": null,
      "min_height": null,
      "min_width": null,
      "slot": null,
      "style_": "flex-direction: column; align-items: stretch; row-gap: 12px;;",
      "tag": null,
      "tile": null,
      "v_model": "!!disabled!!",
      "v_on": null,
      "v_slots": [],
      "width": null
     }
    },
    "a173e530180d4adba8d5756814759eba": {
     "model_module": "jupyter-vuetify",
     "model_module_version": "^1.8.5",
     "model_name": "SliderModel",
     "state": {
      "_dom_classes": [],
      "_events": [],
      "_jupyter_vue": "IPY_MODEL_fc34a3ab4e6b48d7b1a4e8d32363a611",
      "_metadata": null,
      "_model_module": "jupyter-vuetify",
      "_model_module_version": "^1.8.5",
      "_model_name": "SliderModel",
      "_view_count": null,
      "_view_module": "jupyter-vuetify",
      "_view_module_version": "^1.8.5",
      "_view_name": "VuetifyView",
      "append_icon": null,
      "attributes": {},
      "background_color": null,
      "children": [],
      "class_": null,
      "color": null,
      "dark": null,
      "dense": false,
      "disabled": false,
      "error": null,
      "error_count": null,
      "error_messages": null,
      "height": null,
      "hide_details": true,
      "hint": null,
      "id": null,
      "inverse_label": null,
      "label": "Play Interval (ms)",
      "layout": null,
      "light": null,
      "loader_height": null,
      "loading": null,
      "max": 500,
      "messages": null,
      "min": 1,
      "persistent_hint": null,
      "prepend_icon": null,
      "readonly": null,
      "rules": null,
      "slot": null,
      "step": 10,
      "style_": null,
      "success": null,
      "success_messages": null,
      "thumb_color": null,
      "thumb_label": true,
      "thumb_size": null,
      "tick_labels": null,
      "tick_size": null,
      "ticks": null,
      "track_color": null,
      "track_fill_color": null,
      "v_model": 100,
      "v_on": null,
      "v_slots": [],
      "validate_on_blur": null,
      "value": null,
      "vertical": null
     }
    },
    "a4320d801b4449f3a3d18c83ccdd3fbe": {
     "model_module": "jupyter-vuetify",
     "model_module_version": "^1.8.5",
     "model_name": "SheetModel",
     "state": {
      "_dom_classes": [],
      "_events": [],
      "_jupyter_vue": "IPY_MODEL_fc34a3ab4e6b48d7b1a4e8d32363a611",
      "_metadata": null,
      "_model_module": "jupyter-vuetify",
      "_model_module_version": "^1.8.5",
      "_model_name": "SheetModel",
      "_view_count": null,
      "_view_module": "jupyter-vuetify",
      "_view_module_version": "^1.8.5",
      "_view_name": "VuetifyView",
      "attributes": {},
      "children": [
       "IPY_MODEL_bfaa5e0b068c449cb606e4c81db0eb51",
       "IPY_MODEL_f1e3673f5cbd4fe287f650fd5c01c0c0",
       "IPY_MODEL_e51581d94e4c4c79b7eb364f2b68e5d0"
      ],
      "class_": "d-flex ma-0",
      "color": null,
      "dark": null,
      "elevation": 0,
      "height": null,
      "layout": null,
      "light": null,
      "max_height": null,
      "max_width": null,
      "min_height": null,
      "min_width": null,
      "slot": null,
      "style_": "flex-direction: row; align-items: stretch; justify-content: space-between; column-gap: 12px;;",
      "tag": null,
      "tile": null,
      "v_model": "!!disabled!!",
      "v_on": null,
      "v_slots": [],
      "width": null
     }
    },
    "acf7de6d6e1d4680bbf249c0a6f0b667": {
     "model_module": "jupyter-vuetify",
     "model_module_version": "^1.8.5",
     "model_name": "IconModel",
     "state": {
      "_dom_classes": [],
      "_events": [],
      "_jupyter_vue": "IPY_MODEL_fc34a3ab4e6b48d7b1a4e8d32363a611",
      "_metadata": null,
      "_model_module": "jupyter-vuetify",
      "_model_module_version": "^1.8.5",
      "_model_name": "IconModel",
      "_view_count": null,
      "_view_module": "jupyter-vuetify",
      "_view_module_version": "^1.8.5",
      "_view_name": "VuetifyView",
      "attributes": {},
      "children": [
       "mdi-fullscreen"
      ],
      "class_": null,
      "color": null,
      "dark": null,
      "dense": null,
      "disabled": null,
      "large": null,
      "layout": null,
      "left": false,
      "light": null,
      "right": null,
      "size": null,
      "slot": null,
      "small": null,
      "style_": null,
      "tag": null,
      "v_model": "!!disabled!!",
      "v_on": null,
      "v_slots": [],
      "x_large": null,
      "x_small": null
     }
    },
    "b18af991030f4364bead84f591d7c29e": {
     "model_module": "@jupyter-widgets/base",
     "model_module_version": "1.2.0",
     "model_name": "LayoutModel",
     "state": {
      "_model_module": "@jupyter-widgets/base",
      "_model_module_version": "1.2.0",
      "_model_name": "LayoutModel",
      "_view_count": null,
      "_view_module": "@jupyter-widgets/base",
      "_view_module_version": "1.2.0",
      "_view_name": "LayoutView",
      "align_content": null,
      "align_items": null,
      "align_self": null,
      "border": null,
      "bottom": null,
      "display": null,
      "flex": null,
      "flex_flow": null,
      "grid_area": null,
      "grid_auto_columns": null,
      "grid_auto_flow": null,
      "grid_auto_rows": null,
      "grid_column": null,
      "grid_gap": null,
      "grid_row": null,
      "grid_template_areas": null,
      "grid_template_columns": null,
      "grid_template_rows": null,
      "height": null,
      "justify_content": null,
      "justify_items": null,
      "left": null,
      "margin": null,
      "max_height": null,
      "max_width": null,
      "min_height": null,
      "min_width": null,
      "object_fit": null,
      "object_position": null,
      "order": null,
      "overflow": null,
      "overflow_x": null,
      "overflow_y": null,
      "padding": null,
      "right": null,
      "top": null,
      "visibility": null,
      "width": null
     }
    },
    "b6e3a846b71045029116c2d55d7af40a": {
     "model_module": "@jupyter-widgets/controls",
     "model_module_version": "1.5.0",
     "model_name": "VBoxModel",
     "state": {
      "_dom_classes": [],
      "_model_module": "@jupyter-widgets/controls",
      "_model_module_version": "1.5.0",
      "_model_name": "VBoxModel",
      "_view_count": 1,
      "_view_module": "@jupyter-widgets/controls",
      "_view_module_version": "1.5.0",
      "_view_name": "VBoxView",
      "box_style": "",
      "children": [
       "IPY_MODEL_8236094453a747549dbd3d54bfed916c"
      ],
      "layout": "IPY_MODEL_f2cb0fa82581435788da5b4753087658"
     }
    },
    "be8e0bbf392f4824862684a935500be1": {
     "model_module": "jupyter-vuetify",
     "model_module_version": "^1.8.5",
     "model_name": "CardTitleModel",
     "state": {
      "_dom_classes": [],
      "_events": [],
      "_jupyter_vue": "IPY_MODEL_fc34a3ab4e6b48d7b1a4e8d32363a611",
      "_metadata": null,
      "_model_module": "jupyter-vuetify",
      "_model_module_version": "^1.8.5",
      "_model_name": "CardTitleModel",
      "_view_count": null,
      "_view_module": "jupyter-vuetify",
      "_view_module_version": "^1.8.5",
      "_view_name": "VuetifyView",
      "attributes": {},
      "children": [
       "Information"
      ],
      "class_": null,
      "layout": null,
      "slot": null,
      "style_": null,
      "v_model": "!!disabled!!",
      "v_on": null,
      "v_slots": []
     }
    },
    "bebe9878d107457a9db20706320b9150": {
     "model_module": "jupyter-vuetify",
     "model_module_version": "^1.11.1",
     "model_name": "HtmlModel",
     "state": {
      "_dom_classes": [],
      "_events": [],
      "_jupyter_vue": "IPY_MODEL_fc34a3ab4e6b48d7b1a4e8d32363a611",
      "_model_module": "jupyter-vuetify",
      "_model_module_version": "^1.11.1",
      "_model_name": "HtmlModel",
      "_view_count": null,
      "_view_module": "jupyter-vuetify",
      "_view_module_version": "^1.11.1",
      "_view_name": "VuetifyView",
      "attributes": {},
      "children": [
       "Step: 0"
      ],
      "class_": "",
      "layout": null,
      "slot": null,
      "style_": "",
      "tag": "span",
      "v_model": "!!disabled!!",
      "v_on": null,
      "v_slots": []
     }
    },
    "bfaa5e0b068c449cb606e4c81db0eb51": {
     "model_module": "jupyter-vuetify",
     "model_module_version": "^1.8.5",
     "model_name": "BtnModel",
     "state": {
      "_dom_classes": [],
      "_events": [],
      "_jupyter_vue": "IPY_MODEL_fc34a3ab4e6b48d7b1a4e8d32363a611",
      "_metadata": null,
      "_model_module": "jupyter-vuetify",
      "_model_module_version": "^1.8.5",
      "_model_name": "BtnModel",
      "_view_count": null,
      "_view_module": "jupyter-vuetify",
      "_view_module_version": "^1.8.5",
      "_view_name": "VuetifyView",
      "absolute": null,
      "active_class": null,
      "append": null,
      "attributes": {},
      "block": null,
      "bottom": null,
      "children": [
       "Reset"
      ],
      "class_": "",
      "color": "primary",
      "dark": null,
      "depressed": null,
      "disabled": false,
      "elevation": null,
      "exact": null,
      "exact_active_class": null,
      "fab": null,
      "fixed": null,
      "height": null,
      "href": null,
      "icon": null,
      "input_value": null,
      "large": null,
      "layout": null,
      "left": null,
      "light": null,
      "link": null,
      "loading": null,
      "max_height": null,
      "max_width": null,
      "min_height": null,
      "min_width": null,
      "nuxt": null,
      "outlined": false,
      "replace": null,
      "retain_focus_on_click": null,
      "right": null,
      "ripple": null,
      "rounded": null,
      "slot": null,
      "small": null,
      "style_": "",
      "tag": null,
      "target": null,
      "text": false,
      "tile": null,
      "to": null,
      "top": null,
      "type": null,
      "v_model": "!!disabled!!",
      "v_on": null,
      "v_slots": [],
      "value": null,
      "width": null,
      "x_large": null,
      "x_small": null
     }
    },
    "c6da21f72107462987f713b6e09c8460": {
     "model_module": "jupyter-vuetify",
     "model_module_version": "^1.8.5",
     "model_name": "SliderModel",
     "state": {
      "_dom_classes": [],
      "_events": [],
      "_jupyter_vue": "IPY_MODEL_fc34a3ab4e6b48d7b1a4e8d32363a611",
      "_metadata": null,
      "_model_module": "jupyter-vuetify",
      "_model_module_version": "^1.8.5",
      "_model_name": "SliderModel",
      "_view_count": null,
      "_view_module": "jupyter-vuetify",
      "_view_module_version": "^1.8.5",
      "_view_name": "VuetifyView",
      "append_icon": null,
      "attributes": {},
      "background_color": null,
      "children": [],
      "class_": null,
      "color": null,
      "dark": null,
      "dense": false,
      "disabled": false,
      "error": null,
      "error_count": null,
      "error_messages": null,
      "height": null,
      "hide_details": true,
      "hint": null,
      "id": null,
      "inverse_label": null,
      "label": "Number of agents:",
      "layout": null,
      "light": null,
      "loader_height": null,
      "loading": null,
      "max": 100,
      "messages": null,
      "min": 10,
      "persistent_hint": null,
      "prepend_icon": null,
      "readonly": null,
      "rules": null,
      "slot": null,
      "step": 1,
      "style_": null,
      "success": null,
      "success_messages": null,
      "thumb_color": null,
      "thumb_label": true,
      "thumb_size": null,
      "tick_labels": null,
      "tick_size": null,
      "ticks": null,
      "track_color": null,
      "track_fill_color": null,
      "v_model": 50,
      "v_on": null,
      "v_slots": [],
      "validate_on_blur": null,
      "value": null,
      "vertical": null
     }
    },
    "c89b5ce7cb2345049df6330dda54c329": {
     "model_module": "jupyter-vuetify",
     "model_module_version": "^1.8.5",
     "model_name": "SheetModel",
     "state": {
      "_dom_classes": [],
      "_events": [],
      "_jupyter_vue": "IPY_MODEL_fc34a3ab4e6b48d7b1a4e8d32363a611",
      "_metadata": null,
      "_model_module": "jupyter-vuetify",
      "_model_module_version": "^1.8.5",
      "_model_name": "SheetModel",
      "_view_count": null,
      "_view_module": "jupyter-vuetify",
      "_view_module_version": "^1.8.5",
      "_view_name": "VuetifyView",
      "attributes": {},
      "children": [
       "IPY_MODEL_0a7f975f5ea345eebc7018bec63240c1",
       "IPY_MODEL_94de61ec394943a9a1fe48ff042582f6",
       "IPY_MODEL_21cc6f9bce68463f9c1064f3c43eee26"
      ],
      "class_": "d-flex ma-0",
      "color": null,
      "dark": null,
      "elevation": 0,
      "height": null,
      "layout": null,
      "light": null,
      "max_height": null,
      "max_width": null,
      "min_height": null,
      "min_width": null,
      "slot": null,
      "style_": "flex-direction: column; align-items: stretch; row-gap: 12px;;",
      "tag": null,
      "tile": null,
      "v_model": "!!disabled!!",
      "v_on": null,
      "v_slots": [],
      "width": null
     }
    },
    "e51581d94e4c4c79b7eb364f2b68e5d0": {
     "model_module": "jupyter-vuetify",
     "model_module_version": "^1.8.5",
     "model_name": "BtnModel",
     "state": {
      "_dom_classes": [],
      "_events": [],
      "_jupyter_vue": "IPY_MODEL_fc34a3ab4e6b48d7b1a4e8d32363a611",
      "_metadata": null,
      "_model_module": "jupyter-vuetify",
      "_model_module_version": "^1.8.5",
      "_model_name": "BtnModel",
      "_view_count": null,
      "_view_module": "jupyter-vuetify",
      "_view_module_version": "^1.8.5",
      "_view_name": "VuetifyView",
      "absolute": null,
      "active_class": null,
      "append": null,
      "attributes": {},
      "block": null,
      "bottom": null,
      "children": [
       "Step"
      ],
      "class_": "",
      "color": "primary",
      "dark": null,
      "depressed": null,
      "disabled": false,
      "elevation": null,
      "exact": null,
      "exact_active_class": null,
      "fab": null,
      "fixed": null,
      "height": null,
      "href": null,
      "icon": null,
      "input_value": null,
      "large": null,
      "layout": null,
      "left": null,
      "light": null,
      "link": null,
      "loading": null,
      "max_height": null,
      "max_width": null,
      "min_height": null,
      "min_width": null,
      "nuxt": null,
      "outlined": false,
      "replace": null,
      "retain_focus_on_click": null,
      "right": null,
      "ripple": null,
      "rounded": null,
      "slot": null,
      "small": null,
      "style_": "",
      "tag": null,
      "target": null,
      "text": false,
      "tile": null,
      "to": null,
      "top": null,
      "type": null,
      "v_model": "!!disabled!!",
      "v_on": null,
      "v_slots": [],
      "value": null,
      "width": null,
      "x_large": null,
      "x_small": null
     }
    },
    "ee5a20ea3efa456c8b87ade21288d649": {
     "model_module": "@jupyter-widgets/base",
     "model_module_version": "1.2.0",
     "model_name": "LayoutModel",
     "state": {
      "_model_module": "@jupyter-widgets/base",
      "_model_module_version": "1.2.0",
      "_model_name": "LayoutModel",
      "_view_count": null,
      "_view_module": "@jupyter-widgets/base",
      "_view_module_version": "1.2.0",
      "_view_name": "LayoutView",
      "align_content": null,
      "align_items": null,
      "align_self": null,
      "border": null,
      "bottom": null,
      "display": null,
      "flex": null,
      "flex_flow": null,
      "grid_area": null,
      "grid_auto_columns": null,
      "grid_auto_flow": null,
      "grid_auto_rows": null,
      "grid_column": null,
      "grid_gap": null,
      "grid_row": null,
      "grid_template_areas": null,
      "grid_template_columns": null,
      "grid_template_rows": null,
      "height": null,
      "justify_content": null,
      "justify_items": null,
      "left": null,
      "margin": null,
      "max_height": null,
      "max_width": null,
      "min_height": null,
      "min_width": null,
      "object_fit": null,
      "object_position": null,
      "order": null,
      "overflow": "auto",
      "overflow_x": null,
      "overflow_y": null,
      "padding": null,
      "right": null,
      "top": null,
      "visibility": null,
      "width": null
     }
    },
    "ee7bbb081aa8417f8ed41687930c8b27": {
     "model_module": "jupyter-vuetify",
     "model_module_version": "^1.11.1",
     "model_name": "HtmlModel",
     "state": {
      "_dom_classes": [],
      "_events": [],
      "_jupyter_vue": "IPY_MODEL_fc34a3ab4e6b48d7b1a4e8d32363a611",
      "_model_module": "jupyter-vuetify",
      "_model_module_version": "^1.11.1",
      "_model_name": "HtmlModel",
      "_view_count": null,
      "_view_module": "jupyter-vuetify",
      "_view_module_version": "^1.11.1",
      "_view_name": "VuetifyView",
      "attributes": {
       "height": "0px",
       "src": "https://solara.dev/static/public/success.html?check=widget&version=1.44.1",
       "width": "0px"
      },
      "children": [],
      "class_": null,
      "layout": null,
      "slot": null,
      "style_": "display: none;",
      "tag": "iframe",
      "v_model": "!!disabled!!",
      "v_on": null,
      "v_slots": []
     }
    },
    "f1e3673f5cbd4fe287f650fd5c01c0c0": {
     "model_module": "jupyter-vuetify",
     "model_module_version": "^1.8.5",
     "model_name": "BtnModel",
     "state": {
      "_dom_classes": [],
      "_events": [],
      "_jupyter_vue": "IPY_MODEL_fc34a3ab4e6b48d7b1a4e8d32363a611",
      "_metadata": null,
      "_model_module": "jupyter-vuetify",
      "_model_module_version": "^1.8.5",
      "_model_name": "BtnModel",
      "_view_count": null,
      "_view_module": "jupyter-vuetify",
      "_view_module_version": "^1.8.5",
      "_view_name": "VuetifyView",
      "absolute": null,
      "active_class": null,
      "append": null,
      "attributes": {},
      "block": null,
      "bottom": null,
      "children": [
       "▶"
      ],
      "class_": "",
      "color": "primary",
      "dark": null,
      "depressed": null,
      "disabled": false,
      "elevation": null,
      "exact": null,
      "exact_active_class": null,
      "fab": null,
      "fixed": null,
      "height": null,
      "href": null,
      "icon": null,
      "input_value": null,
      "large": null,
      "layout": null,
      "left": null,
      "light": null,
      "link": null,
      "loading": null,
      "max_height": null,
      "max_width": null,
      "min_height": null,
      "min_width": null,
      "nuxt": null,
      "outlined": false,
      "replace": null,
      "retain_focus_on_click": null,
      "right": null,
      "ripple": null,
      "rounded": null,
      "slot": null,
      "small": null,
      "style_": "",
      "tag": null,
      "target": null,
      "text": false,
      "tile": null,
      "to": null,
      "top": null,
      "type": null,
      "v_model": "!!disabled!!",
      "v_on": null,
      "v_slots": [],
      "value": null,
      "width": null,
      "x_large": null,
      "x_small": null
     }
    },
    "f2cb0fa82581435788da5b4753087658": {
     "model_module": "@jupyter-widgets/base",
     "model_module_version": "1.2.0",
     "model_name": "LayoutModel",
     "state": {
      "_model_module": "@jupyter-widgets/base",
      "_model_module_version": "1.2.0",
      "_model_name": "LayoutModel",
      "_view_count": null,
      "_view_module": "@jupyter-widgets/base",
      "_view_module_version": "1.2.0",
      "_view_name": "LayoutView",
      "align_content": null,
      "align_items": null,
      "align_self": null,
      "border": null,
      "bottom": null,
      "display": null,
      "flex": null,
      "flex_flow": null,
      "grid_area": null,
      "grid_auto_columns": null,
      "grid_auto_flow": null,
      "grid_auto_rows": null,
      "grid_column": null,
      "grid_gap": null,
      "grid_row": null,
      "grid_template_areas": null,
      "grid_template_columns": null,
      "grid_template_rows": null,
      "height": null,
      "justify_content": null,
      "justify_items": null,
      "left": null,
      "margin": null,
      "max_height": null,
      "max_width": null,
      "min_height": null,
      "min_width": null,
      "object_fit": null,
      "object_position": null,
      "order": null,
      "overflow": null,
      "overflow_x": null,
      "overflow_y": null,
      "padding": null,
      "right": null,
      "top": null,
      "visibility": null,
      "width": null
     }
    },
    "f782444962674d6cb2c1b0fcd2a79c60": {
     "model_module": "jupyter-vuetify",
     "model_module_version": "^1.8.5",
     "model_name": "CardTitleModel",
     "state": {
      "_dom_classes": [],
      "_events": [],
      "_jupyter_vue": "IPY_MODEL_fc34a3ab4e6b48d7b1a4e8d32363a611",
      "_metadata": null,
      "_model_module": "jupyter-vuetify",
      "_model_module_version": "^1.8.5",
      "_model_name": "CardTitleModel",
      "_view_count": null,
      "_view_module": "jupyter-vuetify",
      "_view_module_version": "^1.8.5",
      "_view_name": "VuetifyView",
      "attributes": {},
      "children": [
       "Model Parameters"
      ],
      "class_": null,
      "layout": null,
      "slot": null,
      "style_": null,
      "v_model": "!!disabled!!",
      "v_on": null,
      "v_slots": []
     }
    },
    "f8c2e3a909734ede8fb779913c98beee": {
     "model_module": "jupyter-vuetify",
     "model_module_version": "^1.8.5",
     "model_name": "CardTextModel",
     "state": {
      "_dom_classes": [],
      "_events": [],
      "_jupyter_vue": "IPY_MODEL_fc34a3ab4e6b48d7b1a4e8d32363a611",
      "_metadata": null,
      "_model_module": "jupyter-vuetify",
      "_model_module_version": "^1.8.5",
      "_model_name": "CardTextModel",
      "_view_count": null,
      "_view_module": "jupyter-vuetify",
      "_view_module_version": "^1.8.5",
      "_view_name": "VuetifyView",
      "attributes": {},
      "children": [
       "IPY_MODEL_a173e530180d4adba8d5756814759eba",
       "IPY_MODEL_6772503ef73d4434a341621c58fe3d83",
       "IPY_MODEL_a4320d801b4449f3a3d18c83ccdd3fbe"
      ],
      "class_": null,
      "layout": null,
      "slot": null,
      "style_": null,
      "v_model": "!!disabled!!",
      "v_on": null,
      "v_slots": []
     }
    }
   }
  }
 },
 "nbformat": 4,
 "nbformat_minor": 5
}
